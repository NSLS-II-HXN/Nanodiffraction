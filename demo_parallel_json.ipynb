{
 "cells": [
  {
   "cell_type": "code",
   "execution_count": 2,
   "id": "raising-affair",
   "metadata": {
    "scrolled": false
   },
   "outputs": [
    {
     "name": "stdout",
     "output_type": "stream",
     "text": [
      "Kafka server not available, Databroker will not be able to upload datum\n"
     ]
    }
   ],
   "source": [
    "from nanorsm_parallel import *"
   ]
  },
  {
   "cell_type": "code",
   "execution_count": 3,
   "id": "2bc1da1b",
   "metadata": {},
   "outputs": [
    {
     "name": "stdout",
     "output_type": "stream",
     "text": [
      "Loaded data:\n",
      "{\n",
      "    \"number of angles\": 6,\n",
      "    \"angle step\": 0.4994350000000054,\n",
      "    \"detector name\": \"merlin1\",\n",
      "    \"energy\": 12.000011322634268,\n",
      "    \"gamma\": 13.5,\n",
      "    \"delta\": 19.20000128099627,\n",
      "    \"detector distance\": 499999.93638819264,\n",
      "    \"pixel size\": 55,\n",
      "    \"scan ids\": [\n",
      "        346726,\n",
      "        346728,\n",
      "        346730,\n",
      "        346732,\n",
      "        346734,\n",
      "        346736\n",
      "    ],\n",
      "    \"fluorescence data path\": \"//data//users//2025Q2//Marschilok_2025Q2//xrf//\",\n",
      "    \"output path\": \"//data//users//2025Q2//Marschilok_2025Q2//nanoRSM//346726-346736_2//\",\n",
      "    \"element list\": [\n",
      "        \"Ni_K\",\n",
      "        \"Mn_K\",\n",
      "        \"Co_K\"\n",
      "    ],\n",
      "    \"element for alignment\": \"Co_K\",\n",
      "    \"alignment matrix\": [\n",
      "        [\n",
      "            -0.0,\n",
      "            -0.0\n",
      "        ],\n",
      "        [\n",
      "            0.5975405753103367,\n",
      "            1.0138616357968964\n",
      "        ],\n",
      "        [\n",
      "            0.11424652814028846,\n",
      "            0.16353099796790005\n",
      "        ],\n",
      "        [\n",
      "            -0.15828633640699152,\n",
      "            0.1321175209316081\n",
      "        ],\n",
      "        [\n",
      "            -0.6232694559850493,\n",
      "            -0.5702749123030273\n",
      "        ],\n",
      "        [\n",
      "            -1.0081505452115316,\n",
      "            -1.8318981633881357\n",
      "        ]\n",
      "    ],\n",
      "    \"scan dimensions\": [\n",
      "        60,\n",
      "        60\n",
      "    ],\n",
      "    \"detector roi\": [\n",
      "        22,\n",
      "        90,\n",
      "        74,\n",
      "        75\n",
      "    ],\n",
      "    \"threshold\": null,\n",
      "    \"monitor\": \"sclr1_ch4\",\n",
      "    \"roi offset\": [\n",
      "        0,\n",
      "        0\n",
      "    ],\n",
      "    \"data store\": \"reduced\"\n",
      "}\n"
     ]
    }
   ],
   "source": [
    "# select the parameter file to be loaded\n",
    "\n",
    "params = load_json_file()"
   ]
  },
  {
   "cell_type": "code",
   "execution_count": 4,
   "id": "e5586816",
   "metadata": {},
   "outputs": [
    {
     "data": {
      "application/vnd.jupyter.widget-view+json": {
       "model_id": "a6d8c38f54f24e4ba8200fe4190ac947",
       "version_major": 2,
       "version_minor": 0
      },
      "text/plain": [
       "Progress:   0%|          | 0/6 [00:00<?, ?it/s]"
      ]
     },
     "metadata": {},
     "output_type": "display_data"
    },
    {
     "data": {
      "application/vnd.jupyter.widget-view+json": {
       "model_id": "2a6c8b8dc57e4d18a27fc421fa064faa",
       "version_major": 2,
       "version_minor": 0
      },
      "text/plain": [
       "Parallel interp_sub_pix:   0%|          | 0/6 [00:00<?, ?it/s]"
      ]
     },
     "metadata": {},
     "output_type": "display_data"
    },
    {
     "name": "stdout",
     "output_type": "stream",
     "text": [
      "save Ni_K to //data//users//2025Q2//Marschilok_2025Q2//nanoRSM//346726-346736_2//Ni_K.tiff\n"
     ]
    },
    {
     "data": {
      "application/vnd.jupyter.widget-view+json": {
       "model_id": "eac136ed33e34dd3814e4f3102dfd6bb",
       "version_major": 2,
       "version_minor": 0
      },
      "text/plain": [
       "Progress:   0%|          | 0/6 [00:00<?, ?it/s]"
      ]
     },
     "metadata": {},
     "output_type": "display_data"
    },
    {
     "data": {
      "application/vnd.jupyter.widget-view+json": {
       "model_id": "125de90de3b1436892028d18a8909c09",
       "version_major": 2,
       "version_minor": 0
      },
      "text/plain": [
       "Parallel interp_sub_pix:   0%|          | 0/6 [00:00<?, ?it/s]"
      ]
     },
     "metadata": {},
     "output_type": "display_data"
    },
    {
     "name": "stdout",
     "output_type": "stream",
     "text": [
      "save Mn_K to //data//users//2025Q2//Marschilok_2025Q2//nanoRSM//346726-346736_2//Mn_K.tiff\n"
     ]
    },
    {
     "data": {
      "application/vnd.jupyter.widget-view+json": {
       "model_id": "cce26eccc08640998ed7dd8345b8c9ad",
       "version_major": 2,
       "version_minor": 0
      },
      "text/plain": [
       "Progress:   0%|          | 0/6 [00:00<?, ?it/s]"
      ]
     },
     "metadata": {},
     "output_type": "display_data"
    },
    {
     "data": {
      "application/vnd.jupyter.widget-view+json": {
       "model_id": "e7dcd57fa29f4a60bea2aa4ef5bd80de",
       "version_major": 2,
       "version_minor": 0
      },
      "text/plain": [
       "Parallel interp_sub_pix:   0%|          | 0/6 [00:00<?, ?it/s]"
      ]
     },
     "metadata": {},
     "output_type": "display_data"
    },
    {
     "name": "stdout",
     "output_type": "stream",
     "text": [
      "save Co_K to //data//users//2025Q2//Marschilok_2025Q2//nanoRSM//346726-346736_2//Co_K.tiff\n"
     ]
    }
   ],
   "source": [
    "# load elemental image data, align it with pystackreg and generate a tranform matrix\n",
    "\n",
    "data_path = params['fluorescence data path']\n",
    "output_path = params['output path']\n",
    "if not os.path.exists(output_path):\n",
    "    os.makedirs(output_path)\n",
    "    print(f\"Created directory: {output_path}\")\n",
    "\n",
    "sid_list = params['scan ids']\n",
    "if params['alignment matrix'] is None:\n",
    "    elem = params['element for alignment']\n",
    "    file_list = [\n",
    "        f\"{data_path}output_tiff_scan2D_{sid}//detsum_{elem}_norm.tiff\"\n",
    "        for sid in sid_list\n",
    "    ]\n",
    "    im_stack = load_ims(file_list)\n",
    "    num_frame,im_row,im_col = np.shape(im_stack)\n",
    "    im_stack_aligned, trans_matrix = align_im_stack(im_stack) # use pystackreg\n",
    "    im_stack_test = interp_sub_pix(im_stack,trans_matrix) # verify the alignment is done correctly\n",
    "    slider_view(im_stack_test)\n",
    "    params['alignment matrix'] = trans_matrix\n",
    "    print('if you are happy with the alignment, run the cell again')\n",
    "else:\n",
    "    elem_list = params['element list']\n",
    "    trans_matrix = np.asarray(params['alignment matrix'])\n",
    "    stack = []\n",
    "    for i, elem in enumerate(elem_list):\n",
    "        file_list = [\n",
    "            f\"{data_path}output_tiff_scan2D_{sid}//detsum_{elem}_norm.tiff\"\n",
    "            for sid in sid_list\n",
    "        ]\n",
    "        im_stack = load_ims(file_list)\n",
    "        im_stack_test = interp_sub_pix(im_stack, trans_matrix)\n",
    "        imp = np.sum(im_stack_test, axis=0)\n",
    "        stack.append(imp[np.newaxis, ...])\n",
    "        tifffile.imwrite(f\"{output_path}{elem}.tiff\",im_stack_test.astype(np.float32),imagej=True)\n",
    "        print(f\"save {elem} to {output_path}{elem}.tiff\")\n",
    "    stack = np.concatenate(stack, axis=0)     "
   ]
  },
  {
   "cell_type": "code",
   "execution_count": 5,
   "id": "b84a220b",
   "metadata": {
    "scrolled": true
   },
   "outputs": [
    {
     "data": {
      "application/vnd.jupyter.widget-view+json": {
       "model_id": "d4498ea0555243f38dafa8d001054db3",
       "version_major": 2,
       "version_minor": 0
      },
      "text/plain": [
       "Progress:   0%|          | 0/6 [00:00<?, ?it/s]"
      ]
     },
     "metadata": {},
     "output_type": "display_data"
    },
    {
     "data": {
      "application/vnd.jupyter.widget-view+json": {
       "model_id": "a6ea4d1773bd4f84adb58abb383f113b",
       "version_major": 2,
       "version_minor": 0
      },
      "text/plain": [
       "Parallel interp_sub_pix:   0%|          | 0/6 [00:00<?, ?it/s]"
      ]
     },
     "metadata": {},
     "output_type": "display_data"
    }
   ],
   "source": [
    "roi = params['detector roi']\n",
    "[scan_row, scan_col] = params['scan dimensions']\n",
    "det = params['detector name']\n",
    "mon = params['monitor']\n",
    "diff_data = load_h5_data_db_parallel(sid_list,det=det,mon=mon,roi=roi)\n",
    "sz = diff_data.shape\n",
    "diff_data = np.reshape(diff_data,(sz[0],scan_row,scan_col,sz[2],sz[3]))\n",
    "diff_data = interp_sub_pix(diff_data,trans_matrix)"
   ]
  },
  {
   "cell_type": "code",
   "execution_count": 7,
   "id": "bfa63107",
   "metadata": {
    "scrolled": true
   },
   "outputs": [
    {
     "data": {
      "application/vnd.jupyter.widget-view+json": {
       "model_id": "e85652144cdf4086abfd236004e19be5",
       "version_major": 2,
       "version_minor": 0
      },
      "text/plain": [
       "Processing scans in parallel:   0%|          | 0/3600 [00:00<?, ?it/s]"
      ]
     },
     "metadata": {},
     "output_type": "display_data"
    },
    {
     "name": "stdout",
     "output_type": "stream",
     "text": [
      "raw det_data is deleted\n",
      "qxz_data: [pos,qx,qz] with dimensions of (60, 60, 7, 471)\n",
      "qyz_data: [pos,qy,qz] with dimensions of (60, 60, 74, 471)\n"
     ]
    },
    {
     "data": {
      "application/vnd.jupyter.widget-view+json": {
       "model_id": "e815793b2a9b45afae2cfda993661aaf",
       "version_major": 2,
       "version_minor": 0
      },
      "text/plain": [
       "  0%|          | 0/3600 [00:00<?, ?it/s]"
      ]
     },
     "metadata": {},
     "output_type": "display_data"
    }
   ],
   "source": [
    "### transform to cartesian crystal coordinates (z along hkl and x is the rocking direction)\n",
    "\n",
    "energy = params['energy']\n",
    "delta = params['delta']\n",
    "gamma = params['gamma']\n",
    "num_angle = params['number of angles']\n",
    "th_step = params['angle step']\n",
    "pix = params['pixel size']\n",
    "det_dist = params['detector distance']\n",
    "offset = np.asarray(params['roi offset'])\n",
    "data_store = params['data store'] # this will reduce the data stored. If use 'full' it can be over 100G\n",
    "\n",
    "method = {'fit_type': 'com',# fitting method: center of mass, 'com' or 'peak'\n",
    "         'shape': 'gaussian', # peak shape: 'gaussian', 'lorentzian', or 'voigt'\n",
    "         'n_peaks': [1,1,1], # number of peaks in each direction\n",
    "          'mask': 'tot', # reference image used for reference\n",
    "          'mask threshold': 0.1 # pixels with values below maximun*thresh are set to zero\n",
    "         } # number of peaks in each direction, qx, qy, and qz\n",
    "\n",
    "\n",
    "# generate an object of the RSM class\n",
    "rsm = RSM(diff_data,energy,delta,gamma,num_angle,th_step,pix,det_dist,offset,stack,elem_list)\n",
    "# transform from detector coordinates to crystal coordinates\n",
    "rsm.calcRSM('cryst',data_store,desired_workers=10)\n",
    "# calculate strain\n",
    "# 'com', center of mass, is a simple algorithm to calculate the strain. Note: There is an abitrary offset\n",
    "rsm.calcSTRAIN(method) \n",
    "# show results\n",
    "rsm.disp()\n",
    "# save results\n",
    "rsm.save(output_path)\n",
    "# also save the entire object\n",
    "save_file = f\"{output_path}all_data.obj\"\n",
    "pickle.dump(rsm, open(save_file,'wb'),protocol = 4)"
   ]
  },
  {
   "cell_type": "code",
   "execution_count": null,
   "id": "72a328d1",
   "metadata": {
    "scrolled": true
   },
   "outputs": [],
   "source": [
    "rsm.run_interactive(scale='linear')"
   ]
  },
  {
   "cell_type": "code",
   "execution_count": null,
   "id": "previous-segment",
   "metadata": {
    "scrolled": true
   },
   "outputs": [],
   "source": [
    "qz = np.sum(rsm.qxz_data,-2)\n",
    "plt.figure()\n",
    " \n",
    "x = rsm.zq[0,0,:]\n",
    "y = qz[35,35,:]\n",
    "popt, fit_y = fit_peaks(x, y,peak_type='lorentzian',n_peaks=2)\n",
    "plt.plot(x,y,'black',x,fit_y,'red')\n",
    "plt.show(block=False)"
   ]
  },
  {
   "cell_type": "code",
   "execution_count": null,
   "id": "4fe96d22",
   "metadata": {},
   "outputs": [],
   "source": [
    "method = {'fit_type': 'peak',# fitting method: center of mass, 'com' or 'peak'\n",
    "         'shape': 'gaussian', # peak shape: 'gaussian', 'lorentzian', or 'voigt'\n",
    "         'n_peaks': [1,1,1]} # number of peaks in each direction, qx, qy, and qz\n",
    "\n",
    "rsm.calcSTRAIN(method) \n",
    "# show results\n",
    "rsm.disp()"
   ]
  },
  {
   "cell_type": "code",
   "execution_count": null,
   "id": "f1850d4c",
   "metadata": {},
   "outputs": [],
   "source": [
    "rsm.disp()"
   ]
  },
  {
   "cell_type": "code",
   "execution_count": null,
   "id": "009c6993",
   "metadata": {},
   "outputs": [],
   "source": []
  }
 ],
 "metadata": {
  "kernelspec": {
   "display_name": "Python 3 (ipykernel)",
   "language": "python",
   "name": "python3"
  },
  "language_info": {
   "codemirror_mode": {
    "name": "ipython",
    "version": 3
   },
   "file_extension": ".py",
   "mimetype": "text/x-python",
   "name": "python",
   "nbconvert_exporter": "python",
   "pygments_lexer": "ipython3",
   "version": "3.11.11"
  }
 },
 "nbformat": 4,
 "nbformat_minor": 5
}
