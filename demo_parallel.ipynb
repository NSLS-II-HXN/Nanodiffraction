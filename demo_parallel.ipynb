{
 "cells": [
  {
   "cell_type": "code",
   "execution_count": 1,
   "id": "raising-affair",
   "metadata": {},
   "outputs": [
    {
     "name": "stderr",
     "output_type": "stream",
     "text": [
      "/nsls2/conda/envs/2025-2.2-py312-tiled/lib/python3.12/site-packages/databroker/assets/base_registry.py:14: UserWarning: pkg_resources is deprecated as an API. See https://setuptools.pypa.io/en/latest/pkg_resources.html. The pkg_resources package is slated for removal as early as 2025-11-30. Refrain from using this package or pin to Setuptools<81.\n",
      "  from pkg_resources import resource_filename\n"
     ]
    },
    {
     "name": "stdout",
     "output_type": "stream",
     "text": [
      "Kafka server not available, Databroker will not be able to upload datum\n"
     ]
    }
   ],
   "source": [
    "from nanorsm_parallel_recovered import *"
   ]
  },
  {
   "cell_type": "code",
   "execution_count": 2,
   "id": "upper-domestic",
   "metadata": {},
   "outputs": [
    {
     "data": {
      "application/vnd.jupyter.widget-view+json": {
       "model_id": "4e6e2c5bce9642e1869827115197aec9",
       "version_major": 2,
       "version_minor": 0
      },
      "text/plain": [
       "Progress:   0%|          | 0/6 [00:00<?, ?it/s]"
      ]
     },
     "metadata": {},
     "output_type": "display_data"
    },
    {
     "data": {
      "application/vnd.jupyter.widget-view+json": {
       "model_id": "1699dd69c52d4af7903c87ddde7b6a90",
       "version_major": 2,
       "version_minor": 0
      },
      "text/plain": [
       "Parallel interp_sub_pix:   0%|          | 0/6 [00:00<?, ?it/s]"
      ]
     },
     "metadata": {},
     "output_type": "display_data"
    },
    {
     "name": "stdout",
     "output_type": "stream",
     "text": [
      "image stack size =(6, 60, 60)\n"
     ]
    }
   ],
   "source": [
    "# load elemental image data, align it with pystackreg and generate a tranform matrix\n",
    "\n",
    "data_path = '//data//users//2025Q2//Marschilok_2025Q2//xrf//'\n",
    "# sid_list = np.concatenate((np.sort(get_sid_list(['219698-219728'],3))[::-1],get_sid_list(['219620-219692'],3)))\n",
    "# sid_list = get_sid_list(['219528-219588'],3)\n",
    "sid_list = get_sid_list(['346726-346736'],2)\n",
    "\n",
    "elem = 'Ni_K'\n",
    "file_list = [\n",
    "    f\"{data_path}output_tiff_scan2D_{sid}//detsum_{elem}_norm.tiff\"\n",
    "    for sid in sid_list\n",
    "]\n",
    "im_stack = load_ims(file_list)\n",
    "num_frame,im_row,im_col = np.shape(im_stack)\n",
    "im_stack_aligned, trans_matrix = align_im_stack(im_stack) # use pystackreg\n",
    "\n",
    "#im_stack = np.delete(im_stack,0,axis=0)\n",
    "#trans_matrix = np.delete(trans_matrix,0,axis=0)\n",
    "\n",
    "im_stack_test = interp_sub_pix(im_stack,trans_matrix) # verify the alignment is done correctly\n",
    "\n",
    "print(f\"image stack size ={im_stack_test.shape}\")\n",
    "# tifffile.imwrite(''.join([data_path, 'original_rsm_100x100_nm//stack_aligned_', elem, '_100x100_nm.tif']),im_stack_test.astype(np.float32),imagej=True)"
   ]
  },
  {
   "cell_type": "code",
   "execution_count": 3,
   "id": "residential-chart",
   "metadata": {
    "scrolled": true
   },
   "outputs": [
    {
     "data": {
      "application/vnd.jupyter.widget-view+json": {
       "model_id": "6322b2ad7adb4fdaaa869f6fd044c792",
       "version_major": 2,
       "version_minor": 0
      },
      "text/plain": [
       "Progress:   0%|          | 0/6 [00:00<?, ?it/s]"
      ]
     },
     "metadata": {},
     "output_type": "display_data"
    },
    {
     "data": {
      "application/vnd.jupyter.widget-view+json": {
       "model_id": "055b9faae93c431784a751d59ce2caf8",
       "version_major": 2,
       "version_minor": 0
      },
      "text/plain": [
       "Parallel interp_sub_pix:   0%|          | 0/6 [00:00<?, ?it/s]"
      ]
     },
     "metadata": {},
     "output_type": "display_data"
    },
    {
     "data": {
      "application/vnd.jupyter.widget-view+json": {
       "model_id": "55473e84ce4849dbbe5fd37618ea2585",
       "version_major": 2,
       "version_minor": 0
      },
      "text/plain": [
       "Progress:   0%|          | 0/6 [00:00<?, ?it/s]"
      ]
     },
     "metadata": {},
     "output_type": "display_data"
    },
    {
     "data": {
      "application/vnd.jupyter.widget-view+json": {
       "model_id": "bab24ad5f24941e39a3c5dbf17aaf9ca",
       "version_major": 2,
       "version_minor": 0
      },
      "text/plain": [
       "Parallel interp_sub_pix:   0%|          | 0/6 [00:00<?, ?it/s]"
      ]
     },
     "metadata": {},
     "output_type": "display_data"
    },
    {
     "data": {
      "application/vnd.jupyter.widget-view+json": {
       "model_id": "ee25632df9914f7499fa13e33c101571",
       "version_major": 2,
       "version_minor": 0
      },
      "text/plain": [
       "Progress:   0%|          | 0/6 [00:00<?, ?it/s]"
      ]
     },
     "metadata": {},
     "output_type": "display_data"
    },
    {
     "data": {
      "application/vnd.jupyter.widget-view+json": {
       "model_id": "5c315bb3c99d4fdca4adf780aa8bbf6b",
       "version_major": 2,
       "version_minor": 0
      },
      "text/plain": [
       "Parallel interp_sub_pix:   0%|          | 0/6 [00:00<?, ?it/s]"
      ]
     },
     "metadata": {},
     "output_type": "display_data"
    }
   ],
   "source": [
    "# if there are more elements to be aligned and stacked\n",
    "elem_list = ['Ni_K', 'Mn_K','Co_K']\n",
    "# sid_list = get_sid_list(['219792-219888'], 3)\n",
    "\n",
    "stack = []\n",
    "for i, elem in enumerate(elem_list):\n",
    "    file_list = [\n",
    "        f\"{data_path}output_tiff_scan2D_{sid}//detsum_{elem}_norm.tiff\"\n",
    "        for sid in sid_list\n",
    "    ]\n",
    "    im_stack = load_ims(file_list)\n",
    "    im_stack_test = interp_sub_pix(im_stack, trans_matrix)\n",
    "    imp = np.sum(im_stack_test, axis=0)\n",
    "    stack.append(imp[np.newaxis, ...])\n",
    "\n",
    "stack = np.concatenate(stack, axis=0)\n",
    "#     tifffile.imwrite(''.join([data_path, 'original_rsm_100x100_nm//stack_aligned_', elem, '_100x100_nm.tif']),im_stack_test.astype(np.float32),imagej=True)"
   ]
  },
  {
   "cell_type": "code",
   "execution_count": null,
   "id": "intensive-suggestion",
   "metadata": {
    "scrolled": true
   },
   "outputs": [],
   "source": [
    "# sum all diffraction patterns from local files to determine roi and mask\n",
    "\n",
    "tot = sum_all_h5_data_db_parallel(sid_list, det = 'merlin1')\n",
    "plt.imshow(np.log10(tot+0.1),clim=[1,5])\n",
    "plt.show()"
   ]
  },
  {
   "cell_type": "code",
   "execution_count": null,
   "id": "a2e7f9f6",
   "metadata": {},
   "outputs": [],
   "source": [
    "plt.imshow(np.log10(np.flip(tot,1)+0.1),clim=[1,5])\n",
    "plt.show()"
   ]
  },
  {
   "cell_type": "code",
   "execution_count": null,
   "id": "653358f7",
   "metadata": {},
   "outputs": [],
   "source": [
    "%matplotlib inline\n",
    "plt.imshow(np.log10(tot+0.1),clim=[1,5])\n",
    "plt.show()"
   ]
  },
  {
   "cell_type": "code",
   "execution_count": null,
   "id": "0087dba1",
   "metadata": {},
   "outputs": [],
   "source": [
    "stack.shape[0]"
   ]
  },
  {
   "cell_type": "code",
   "execution_count": 4,
   "id": "b84a220b",
   "metadata": {
    "scrolled": true
   },
   "outputs": [
    {
     "data": {
      "application/vnd.jupyter.widget-view+json": {
       "model_id": "1de0285565924f858f8a19380b1f4682",
       "version_major": 2,
       "version_minor": 0
      },
      "text/plain": [
       "Progress:   0%|          | 0/6 [00:00<?, ?it/s]"
      ]
     },
     "metadata": {},
     "output_type": "display_data"
    },
    {
     "data": {
      "application/vnd.jupyter.widget-view+json": {
       "model_id": "4708812a4b904b2a974197d5b30ecfec",
       "version_major": 2,
       "version_minor": 0
      },
      "text/plain": [
       "Parallel interp_sub_pix:   0%|          | 0/6 [00:00<?, ?it/s]"
      ]
     },
     "metadata": {},
     "output_type": "display_data"
    }
   ],
   "source": [
    "roi = [15,80,110,110]  # [slice(row start, end), slice(col start,end)]\n",
    "# files = [get_path(sid,'merlin2') for sid in sid_list]\n",
    "scan_row = im_row\n",
    "scan_col = im_col\n",
    "diff_data = load_h5_data_db_parallel(sid_list,det='merlin1',mon='sclr1_ch4',roi=roi)\n",
    "# diff_data = nanorsm.load_h5_files_parallel(files,roi)\n",
    "sz = diff_data.shape\n",
    "diff_data = np.reshape(diff_data,(sz[0],scan_row,scan_col,sz[2],sz[3]))\n",
    "diff_data = interp_sub_pix(diff_data,trans_matrix)"
   ]
  },
  {
   "cell_type": "code",
   "execution_count": null,
   "id": "6957c11f",
   "metadata": {},
   "outputs": [],
   "source": [
    "%matplotlib inline\n",
    "sz = diff_data.shape\n",
    "single_im = np.sum(diff_data.reshape(-1,sz[-2],sz[-1]),0)\n",
    "plt.imshow(np.log10(single_im))"
   ]
  },
  {
   "cell_type": "code",
   "execution_count": null,
   "id": "classical-clark",
   "metadata": {},
   "outputs": [],
   "source": [
    "# Load, normalize, align, and assemble diffraction data \n",
    "# diff_data is the 5D dataset aligned; make sure your machine has enough memory\n",
    "'''\n",
    "data_path = '//data//home//home//hyan//export//scan_180000//'\n",
    "prefix = 'scan_'\n",
    "postfix = '_merlin1.h5'\n",
    "scan_row = 100\n",
    "scan_col = 100\n",
    "\n",
    "data_file_list = create_file_list(data_path, prefix, postfix, sid_list)\n",
    "diff_data = load_h5_data(data_file_list,roi=roi,mask=mask)\n",
    "\n",
    "postfix = '_merlin1.txt'\n",
    "mon_file_list = create_file_list(data_path, prefix, postfix, sid_list)\n",
    "\n",
    "mon_data = load_scaler_data(mon_file_list,['sclr1_ch4'])\n",
    "\n",
    "# First scaler reading of each scan is zero; refill with first non-zero reading\n",
    "avg = np.mean(mon_data[mon_data != 0])\n",
    "mon_data[mon_data==0] = avg \n",
    "\n",
    "sz = diff_data.shape\n",
    "\n",
    "diff_data = (diff_data/mon_data[:,np.newaxis,np.newaxis])\n",
    "\n",
    "diff_data = np.reshape(diff_data,(sz[0],scan_row,scan_col,sz[2],sz[3]))\n",
    "diff_data = interp_sub_pix(diff_data,trans_matrix)\n",
    "'''"
   ]
  },
  {
   "cell_type": "code",
   "execution_count": 5,
   "id": "bfa63107",
   "metadata": {},
   "outputs": [
    {
     "data": {
      "application/vnd.jupyter.widget-view+json": {
       "model_id": "bae387a3b2d84b72996363b06af9e116",
       "version_major": 2,
       "version_minor": 0
      },
      "text/plain": [
       "Processing scans in parallel:   0%|          | 0/3600 [00:00<?, ?it/s]"
      ]
     },
     "metadata": {},
     "output_type": "display_data"
    },
    {
     "name": "stdout",
     "output_type": "stream",
     "text": [
      "raw det_data is deleted\n",
      "qxz_data: [pos,qx,qz] with dimensions of (60, 60, 8, 668)\n",
      "qyz_data: [pos,qy,qz] with dimensions of (60, 60, 109, 668)\n"
     ]
    },
    {
     "data": {
      "application/vnd.jupyter.widget-view+json": {
       "model_id": "ec9a8bf3178644c99be70769759ea959",
       "version_major": 2,
       "version_minor": 0
      },
      "text/plain": [
       "  0%|          | 0/3600 [00:00<?, ?it/s]"
      ]
     },
     "metadata": {},
     "output_type": "display_data"
    }
   ],
   "source": [
    "### transform to cartesian crystal coordinates (z along hkl and x is the rocking direction)\n",
    "\n",
    "energy = 12\n",
    "delta = 19.5\n",
    "gamma = 13.5\n",
    "num_angle = 6\n",
    "th_step = 0.5\n",
    "pix = 55\n",
    "det_dist = 5e5\n",
    "offset = [0,0]\n",
    "data_store = 'reduced' # this will reduce the data stored. If use 'full' it can be over 100G\n",
    "# save_path = '//data//users//2024Q2//Yan_2024Q2//MoTe2//nanoRSM//'\n",
    "\n",
    "method = {'fit_type': 'com',# fitting method: center of mass, 'com' or 'peak'\n",
    "         'shape': 'gaussian', # peak shape: 'gaussian', 'lorentzian', or 'voigt'\n",
    "         'n_peaks': [1,1,1]}, # number of peaks in each direction, qx, qy, and qz\n",
    "\n",
    "\n",
    "# generate an object of the RSM class\n",
    "rsm = RSM(diff_data,energy,delta,gamma,num_angle,th_step,pix,det_dist,offset,stack,elem_list)\n",
    "# transform from detector coordinates to crystal coordinates\n",
    "rsm.calcRSM('cryst',data_store,desired_workers=20)\n",
    "# calculate strain\n",
    "# 'com', center of mass, is a simple algorithm to calculate the strain. Note: There is an abitrary offset\n",
    "rsm.calcSTRAIN(method)  \n",
    "# show results\n",
    "rsm.disp()\n",
    "# save results\n",
    "#rsm.save(save_path)\n",
    "# also save the entire object\n",
    "# save_file = ''.join([save_path,'rsm_35_blanket_film.obj'])\n",
    "# pickle.dump(rsm, open(save_file,'wb'),protocol = 4)"
   ]
  },
  {
   "cell_type": "code",
   "execution_count": 11,
   "id": "previous-segment",
   "metadata": {
    "scrolled": true
   },
   "outputs": [
    {
     "data": {
      "application/vnd.jupyter.widget-view+json": {
       "model_id": "809512d6501945818e9dfc5d0c9a958a",
       "version_major": 2,
       "version_minor": 0
      },
      "text/plain": [
       "  0%|          | 0/3600 [00:00<?, ?it/s]"
      ]
     },
     "metadata": {},
     "output_type": "display_data"
    }
   ],
   "source": [
    "method = {'fit_type': 'peak',\n",
    "         'shape': 'gaussian',\n",
    "         'n_peaks': [1,1,1]}\n",
    "rsm.calcSTRAIN(method)\n",
    "rsm.disp()"
   ]
  },
  {
   "cell_type": "code",
   "execution_count": null,
   "id": "95fd5449",
   "metadata": {},
   "outputs": [],
   "source": [
    "plt.figure()\n",
    "plt.imshow(np.squeeze(rsm.strain))\n",
    "plt.show()"
   ]
  },
  {
   "cell_type": "code",
   "execution_count": null,
   "id": "30347e54",
   "metadata": {},
   "outputs": [],
   "source": [
    "np.zeros(5)"
   ]
  },
  {
   "cell_type": "code",
   "execution_count": null,
   "id": "incredible-pierce",
   "metadata": {},
   "outputs": [],
   "source": [
    "plt.figure()\n",
    "plt.imshow(np.log10(rsm.qxz_data[30,70,:,:].T+1e-7),clim=[-6,0])\n",
    "plt.show()"
   ]
  },
  {
   "cell_type": "code",
   "execution_count": null,
   "id": "coordinated-perry",
   "metadata": {},
   "outputs": [],
   "source": [
    "data_path = '//data//users//2020Q3//Ajith_2020Q3//LPE_FeS2_P4_diff//'\n",
    "save_file = ''.join([data_path,'rsm.obj'])\n",
    "rsm = pickle.load(open(save_file,'rb'))\n",
    "rsm.disp()"
   ]
  },
  {
   "cell_type": "code",
   "execution_count": null,
   "id": "virtual-peeing",
   "metadata": {},
   "outputs": [],
   "source": [
    "def interactive_map(\n",
    "    names,\n",
    "    im_stack,\n",
    "    label,\n",
    "    data_4D,\n",
    "    cmap='jet',\n",
    "    clim=None,\n",
    "    marker_color='black'\n",
    "):\n",
    "    n = min(len(names), im_stack.shape[0])\n",
    "    total = n + 1\n",
    "    ncols, nrows = 3, int(np.ceil(total / 3))\n",
    "\n",
    "    fig, axs = plt.subplots(\n",
    "        nrows, ncols,\n",
    "        figsize=(3 * ncols, 3 * nrows),\n",
    "        gridspec_kw={'wspace': 0.1, 'hspace': 0.2}\n",
    "    )\n",
    "    axs = axs.ravel()\n",
    "\n",
    "    # initial plotting\n",
    "    for ax, name, img in zip(axs, names[:n], im_stack[:n]):\n",
    "        ax.imshow(img, cmap=cmap, aspect='auto')\n",
    "        ax.set_title(name, fontsize=9)\n",
    "        ax.axis('off')\n",
    "\n",
    "    diff_ax = axs[n]\n",
    "    im = diff_ax.imshow(data_4D[0, 0], cmap=cmap, clim=clim, aspect='auto')\n",
    "    diff_ax.set_title(label, fontsize=9)\n",
    "    diff_ax.axis('off')\n",
    "\n",
    "    for ax in axs[total:]:\n",
    "        ax.axis('off')\n",
    "\n",
    "    cbar = fig.colorbar(im, ax=diff_ax, fraction=0.046, pad=0.02)\n",
    "    cbar.ax.tick_params(labelsize=8)\n",
    "\n",
    "    # tighten BEFORE connecting\n",
    "    fig.tight_layout()\n",
    "\n",
    "    def onclick(event):\n",
    "        if event.inaxes not in axs:\n",
    "            return\n",
    "        col, row = int(round(event.xdata)), int(round(event.ydata))\n",
    "        if not (0 <= col < im_stack.shape[2] and 0 <= row < im_stack.shape[1]):\n",
    "            return\n",
    "\n",
    "        # redraw each panel\n",
    "        for i, ax in enumerate(axs[:total]):\n",
    "            ax.clear()\n",
    "            if i < n:\n",
    "                ax.imshow(im_stack[i], cmap=cmap, aspect='auto')\n",
    "                ax.plot(col, row, 'o', color=marker_color, ms=5)\n",
    "                ax.set_title(names[i], fontsize=9)\n",
    "            else:\n",
    "                ax.imshow(data_4D[row, col], cmap=cmap, clim=clim, aspect='auto')\n",
    "                ax.set_title(label, fontsize=9)\n",
    "            ax.axis('off')\n",
    "\n",
    "        # immediate redraw\n",
    "        fig.canvas.draw()\n",
    "\n",
    "    # connect *after* layout\n",
    "    fig.canvas.mpl_connect('button_press_event', onclick)\n",
    "\n",
    "    fig.show()\n",
    "\n",
    "    \n",
    "def load_diff_data(sid, scaler_names, det_name, mon=None):\n",
    "    \"\"\"\n",
    "    Fetch scan data and build:\n",
    "      - im_stack: array of shape (len(scaler_names), scan_row, scan_col)\n",
    "      - diff_data: array of shape (scan_row, scan_col, det_rows, det_cols)\n",
    "    \"\"\"\n",
    "    h = db[sid]\n",
    "    df = h.table()\n",
    "    s = scan_command(sid).split()\n",
    "    scan_col, scan_row = int(s[3]), int(s[7])\n",
    "\n",
    "    # build scalar stacks\n",
    "    stacks = []\n",
    "    for name in scaler_names:\n",
    "        if name in df:\n",
    "            arr = np.array(df[name])\n",
    "        else:\n",
    "            arr = np.array(df['Det1_'+name] + df['Det2_'+name] + df['Det3_'+name])\n",
    "        stacks.append(arr.reshape(scan_row, scan_col))\n",
    "    im_stack = np.stack(stacks, axis=0)\n",
    "\n",
    "    if mon is not None:\n",
    "        mon_arr = np.array(df[mon]).reshape(1, scan_row, scan_col)\n",
    "        im_stack = im_stack / mon_arr\n",
    "\n",
    "    # load diffraction data and reshape\n",
    "    diff = list(h.data(det_name))\n",
    "    det = np.asarray(diff).reshape(scan_row, scan_col, *diff[0].shape)\n",
    "    return im_stack, det\n"
   ]
  },
  {
   "cell_type": "code",
   "execution_count": null,
   "id": "boxed-value",
   "metadata": {},
   "outputs": [],
   "source": [
    "%matplotlib notebook\n",
    "interactive_map(elem_list,stack,'rsm',np.log10(np.swapaxes(rsm.qxz_data,2,3)),cmap='jet')"
   ]
  },
  {
   "cell_type": "code",
   "execution_count": null,
   "id": "necessary-essay",
   "metadata": {},
   "outputs": [],
   "source": [
    "plt.figure()\n",
    "plt.imshow(np.log10(np.swapaxes(rsm.qxz_data,2,3)[11,25,:,:]+1e-7),cmap='jet',clim=[-4.8,-2.5])"
   ]
  },
  {
   "cell_type": "code",
   "execution_count": null,
   "id": "standard-stamp",
   "metadata": {},
   "outputs": [],
   "source": [
    "# interactive figure\n",
    "\n",
    "%matplotlib qt\n",
    "\n",
    "# load fluorescence image stacks\n",
    "# insert your own code accordingly\n",
    "\n",
    "sum_Ge = np.sum(Ge,0)\n",
    "sum_W = np.sum(W,0)\n",
    "sum_Cu = np.sum(Cu,0)\n",
    "\n",
    "cmap = 'viridis'\n",
    "color = 'red'\n",
    "eps = 1e-5\n",
    "def onclick(event):\n",
    "    global row, col\n",
    "    col, row = event.xdata, event.ydata\n",
    "    if col is not None and row is not None:\n",
    "        row = int(np.round(row))\n",
    "        col = int(np.round(col))\n",
    "        ax0.clear()\n",
    "        ax0.imshow(sum_Ge,cmap=cmap)\n",
    "        ax0.plot(col,row,marker='o',markersize=2, color=color)\n",
    "        ax0.set_title('Ge')\n",
    "        ax1.clear()\n",
    "        ax1.imshow(sum_W,cmap=cmap)\n",
    "        ax1.plot(col,row,marker='o',markersize=2, color=color)\n",
    "        ax1.set_title('W')\n",
    "        ax2.clear()\n",
    "        ax2.imshow(sum_Cu,cmap=cmap)\n",
    "        ax2.plot(col,row,marker='o',markersize=2, color=color)\n",
    "        ax2.set_title('Cu')\n",
    "        ax3.clear()\n",
    "        ax3.imshow(rsm.tot,cmap=cmap)\n",
    "        ax3.plot(col,row,marker='o',markersize=2, color=color)\n",
    "        ax3.set_title('tot')\n",
    "        ax4.clear()\n",
    "        ax4.imshow(np.log10(rsm.qxz_data[row,col,:,:].T+eps),cmap=cmap)\n",
    "        ax4.set_title('RSM')\n",
    "        fig.canvas.draw_idle()\n",
    "    \n",
    "    return\n",
    "\n",
    "fig = plt.figure()\n",
    "spec = fig.add_gridspec(2,3)\n",
    "#fig, ax = plt.subplots(2,1)\n",
    "ax0 = fig.add_subplot(spec[0,0])\n",
    "ax0.imshow(clean_Ge,cmap=cmap)\n",
    "ax0.set_title('Ge')\n",
    "\n",
    "ax1 = fig.add_subplot(spec[0,1])\n",
    "ax1.imshow(sum_W,cmap=cmap)\n",
    "ax1.set_title('W')\n",
    "\n",
    "ax2 = fig.add_subplot(spec[0,2])\n",
    "ax2.imshow(sum_Cu,cmap=cmap)\n",
    "ax2.set_title('Cu')\n",
    "\n",
    "ax3 = fig.add_subplot(spec[1,0])\n",
    "ax3.imshow(rsm.tot,cmap=cmap)\n",
    "ax3.set_title('tot')\n",
    "\n",
    "ax4 = fig.add_subplot(spec[1,1:3])\n",
    "ax4.imshow(np.log10(rsm.qxz_data[0,0,:,:].T+eps),cmap=cmap)\n",
    "ax4.set_title('RSM')\n",
    "plt.tight_layout()\n",
    "\n",
    "# Call click func\n",
    "cid = fig.canvas.mpl_connect('button_press_event', onclick)\n",
    "\n",
    "#plt.show()"
   ]
  },
  {
   "cell_type": "code",
   "execution_count": null,
   "id": "turkish-iraqi",
   "metadata": {},
   "outputs": [],
   "source": [
    "# create movie\n",
    "import matplotlib\n",
    "import matplotlib.animation as manimation \n",
    "matplotlib.use('AGG') \n",
    "def update_fig(row,col):\n",
    "\n",
    "    #col = col + i\n",
    "    ax0.clear()\n",
    "    ax0.imshow(sum_Ge,cmap=cmap)\n",
    "    ax0.plot(col,row,marker='o',markersize=2, color=color)\n",
    "    ax0.set_title('Ge')\n",
    "    ax1.clear()\n",
    "    ax1.imshow(sum_W,cmap=cmap)\n",
    "    ax1.plot(col,row,marker='o',markersize=2, color=color)\n",
    "    ax1.set_title('W')\n",
    "    ax2.clear()\n",
    "    ax2.imshow(sum_Cu,cmap=cmap)\n",
    "    ax2.plot(col,row,marker='o',markersize=2, color=color)\n",
    "    ax2.set_title('Cu')\n",
    "    ax3.clear()\n",
    "    ax3.imshow(rsm.tot,cmap=cmap)\n",
    "    ax3.plot(col,row,marker='o',markersize=2, color=color)\n",
    "    ax3.set_title('tot')\n",
    "    ax4.clear()\n",
    "    ax4.imshow(np.log10(rsm.qxz_data[row,col,:,:].T+eps),cmap=cmap)\n",
    "    ax4.set_title('RSM')\n",
    "    fig.canvas.draw_idle()\n",
    "    return  \n",
    "     \n",
    "def init():\n",
    "    fig = plt.figure()\n",
    "    spec = fig.add_gridspec(2,3)\n",
    "    \n",
    "    ax0 = fig.add_subplot(spec[0,0])\n",
    "    ax0.imshow(clean_Ge,cmap=cmap)\n",
    "    ax0.set_title('Ge')\n",
    "\n",
    "    ax1 = fig.add_subplot(spec[0,1])\n",
    "    ax1.imshow(sum_W,cmap=cmap)\n",
    "    ax1.set_title('W')\n",
    "\n",
    "    ax2 = fig.add_subplot(spec[0,2])\n",
    "    ax2.imshow(sum_Cu,cmap=cmap)\n",
    "    ax2.set_title('Cu')\n",
    "\n",
    "    ax3 = fig.add_subplot(spec[1,0])\n",
    "    ax3.imshow(rsm.tot,cmap=cmap)\n",
    "    ax3.set_title('tot')\n",
    "\n",
    "    ax4 = fig.add_subplot(spec[1,1:3])\n",
    "    ax4.imshow(np.log10(rsm.qxz_data[0,0,:,:].T+eps),cmap=cmap)\n",
    "    ax4.set_title('RSM')\n",
    "    plt.tight_layout()\n",
    "    return  \n",
    "\n",
    "FFMpegWriter = manimation.writers['ffmpeg']\n",
    "metadata = dict(title='Movie', artist='hyan',\n",
    "                comment='RSM variation across GAAFET')\n",
    "writer = FFMpegWriter(fps=5, metadata=metadata)\n",
    "\n",
    "init()\n",
    "\n",
    "with writer.saving(fig, 'myfile.mp4', dpi=100):\n",
    "    writer.grab_frame()\n",
    "    row = 21\n",
    "    col = 5\n",
    "    for j in range(44):\n",
    "        update_fig(row,col+j)\n",
    "        writer.grab_frame()\n",
    "    row = 2\n",
    "    col = 28\n",
    "    for j in range(40):\n",
    "        update_fig(row+j,col)\n",
    "        writer.grab_frame()\n",
    "    #writer.finish()\n",
    " "
   ]
  }
 ],
 "metadata": {
  "kernelspec": {
   "display_name": "Python 3 (ipykernel)",
   "language": "python",
   "name": "python3"
  },
  "language_info": {
   "codemirror_mode": {
    "name": "ipython",
    "version": 3
   },
   "file_extension": ".py",
   "mimetype": "text/x-python",
   "name": "python",
   "nbconvert_exporter": "python",
   "pygments_lexer": "ipython3",
   "version": "3.12.11"
  }
 },
 "nbformat": 4,
 "nbformat_minor": 5
}
