{
 "cells": [
  {
   "cell_type": "code",
   "execution_count": 1,
   "id": "raising-affair",
   "metadata": {
    "scrolled": false
   },
   "outputs": [
    {
     "name": "stdout",
     "output_type": "stream",
     "text": [
      "Kafka server not available, Databroker will not be able to upload datum\n"
     ]
    }
   ],
   "source": [
    "from nanorsm_parallel import *"
   ]
  },
  {
   "cell_type": "code",
   "execution_count": 2,
   "id": "e5586816",
   "metadata": {},
   "outputs": [
    {
     "data": {
      "application/vnd.jupyter.widget-view+json": {
       "model_id": "b434a3e10d6c4a069ad5abef9e9a64fe",
       "version_major": 2,
       "version_minor": 0
      },
      "text/plain": [
       "Progress:   0%|          | 0/6 [00:00<?, ?it/s]"
      ]
     },
     "metadata": {},
     "output_type": "display_data"
    },
    {
     "data": {
      "application/vnd.jupyter.widget-view+json": {
       "model_id": "3e260dd1763447659c23b213af5f7644",
       "version_major": 2,
       "version_minor": 0
      },
      "text/plain": [
       "Parallel interp_sub_pix:   0%|          | 0/6 [00:00<?, ?it/s]"
      ]
     },
     "metadata": {},
     "output_type": "display_data"
    }
   ],
   "source": [
    "# load elemental image data, align it with pystackreg and generate a tranform matrix\n",
    "scan = '346726-346736'\n",
    "interval = 2\n",
    "parent_path = '//data//users//2025Q2//Marschilok_2025Q2//'\n",
    "data_path = f\"{parent_path}xrf//\"\n",
    "output_path = f\"{parent_path}nanoRSM//{scan}_{interval}//\"\n",
    "if not os.path.exists(output_path):\n",
    "    os.makedirs(output_path)\n",
    "    print(f\"Created directory: {output_path}\")\n",
    "\n",
    "\n",
    "sid_list = get_sid_list([scan],interval)\n",
    "elem = 'Ni_K'\n",
    "file_list = [\n",
    "    f\"{data_path}output_tiff_scan2D_{sid}//detsum_{elem}_norm.tiff\"\n",
    "    for sid in sid_list\n",
    "]\n",
    "im_stack = load_ims(file_list)\n",
    "num_frame,im_row,im_col = np.shape(im_stack)\n",
    "im_stack_aligned, trans_matrix = align_im_stack(im_stack) # use pystackreg\n",
    "im_stack_test = interp_sub_pix(im_stack,trans_matrix) # verify the alignment is done correctly\n",
    "slider_view(im_stack_test)\n"
   ]
  },
  {
   "cell_type": "code",
   "execution_count": 3,
   "id": "residential-chart",
   "metadata": {
    "scrolled": true
   },
   "outputs": [
    {
     "data": {
      "application/vnd.jupyter.widget-view+json": {
       "model_id": "a9d4bf7149454966a2415d09063ae4f6",
       "version_major": 2,
       "version_minor": 0
      },
      "text/plain": [
       "Progress:   0%|          | 0/6 [00:00<?, ?it/s]"
      ]
     },
     "metadata": {},
     "output_type": "display_data"
    },
    {
     "data": {
      "application/vnd.jupyter.widget-view+json": {
       "model_id": "e4fae48878854318acdea44782787d64",
       "version_major": 2,
       "version_minor": 0
      },
      "text/plain": [
       "Parallel interp_sub_pix:   0%|          | 0/6 [00:00<?, ?it/s]"
      ]
     },
     "metadata": {},
     "output_type": "display_data"
    },
    {
     "name": "stdout",
     "output_type": "stream",
     "text": [
      "save Ni_K to //data//users//2025Q2//Marschilok_2025Q2//nanoRSM//346726-346736_2//Ni_K.tiff\n"
     ]
    },
    {
     "data": {
      "application/vnd.jupyter.widget-view+json": {
       "model_id": "2918e7f82f674bd28fc016a74e47a885",
       "version_major": 2,
       "version_minor": 0
      },
      "text/plain": [
       "Progress:   0%|          | 0/6 [00:00<?, ?it/s]"
      ]
     },
     "metadata": {},
     "output_type": "display_data"
    },
    {
     "data": {
      "application/vnd.jupyter.widget-view+json": {
       "model_id": "b46cd6e6df034d6dae7f8fd8b0bdfe61",
       "version_major": 2,
       "version_minor": 0
      },
      "text/plain": [
       "Parallel interp_sub_pix:   0%|          | 0/6 [00:00<?, ?it/s]"
      ]
     },
     "metadata": {},
     "output_type": "display_data"
    },
    {
     "name": "stdout",
     "output_type": "stream",
     "text": [
      "save Mn_K to //data//users//2025Q2//Marschilok_2025Q2//nanoRSM//346726-346736_2//Mn_K.tiff\n"
     ]
    },
    {
     "data": {
      "application/vnd.jupyter.widget-view+json": {
       "model_id": "c376604dbf0d4fc1967bb840db580e3f",
       "version_major": 2,
       "version_minor": 0
      },
      "text/plain": [
       "Progress:   0%|          | 0/6 [00:00<?, ?it/s]"
      ]
     },
     "metadata": {},
     "output_type": "display_data"
    },
    {
     "data": {
      "application/vnd.jupyter.widget-view+json": {
       "model_id": "e29df193dd6d4fb28e4d6c5f88793f33",
       "version_major": 2,
       "version_minor": 0
      },
      "text/plain": [
       "Parallel interp_sub_pix:   0%|          | 0/6 [00:00<?, ?it/s]"
      ]
     },
     "metadata": {},
     "output_type": "display_data"
    },
    {
     "name": "stdout",
     "output_type": "stream",
     "text": [
      "save Co_K to //data//users//2025Q2//Marschilok_2025Q2//nanoRSM//346726-346736_2//Co_K.tiff\n"
     ]
    }
   ],
   "source": [
    "# if there are more elements to be aligned and stacked\n",
    "elem_list = ['Ni_K', 'Mn_K','Co_K']\n",
    "stack = []\n",
    "for i, elem in enumerate(elem_list):\n",
    "    file_list = [\n",
    "        f\"{data_path}output_tiff_scan2D_{sid}//detsum_{elem}_norm.tiff\"\n",
    "        for sid in sid_list\n",
    "    ]\n",
    "    im_stack = load_ims(file_list)\n",
    "    im_stack_test = interp_sub_pix(im_stack, trans_matrix)\n",
    "    imp = np.sum(im_stack_test, axis=0)\n",
    "    stack.append(imp[np.newaxis, ...])\n",
    "    tifffile.imwrite(f\"{output_path}{elem}.tiff\",im_stack_test.astype(np.float32),imagej=True)\n",
    "    print(f\"save {elem} to {output_path}{elem}.tiff\")\n",
    "stack = np.concatenate(stack, axis=0)                  "
   ]
  },
  {
   "cell_type": "code",
   "execution_count": 4,
   "id": "intensive-suggestion",
   "metadata": {
    "scrolled": true
   },
   "outputs": [
    {
     "name": "stdout",
     "output_type": "stream",
     "text": [
      "Using 10 workers (desired: 10, available cores: 40).\n"
     ]
    },
    {
     "data": {
      "application/vnd.jupyter.widget-view+json": {
       "model_id": "0d30603a8fec4c53aeec0573f9b977e1",
       "version_major": 2,
       "version_minor": 0
      },
      "text/plain": [
       "Processing Scans:   0%|          | 0/6 [00:00<?, ?it/s]"
      ]
     },
     "metadata": {},
     "output_type": "display_data"
    },
    {
     "name": "stdout",
     "output_type": "stream",
     "text": [
      "Selected ROI: [14, 73, 92, 105]\n"
     ]
    }
   ],
   "source": [
    "# sum all diffraction patterns from local files to determine roi\n",
    "det_name = 'merlin1'\n",
    "\n",
    "tot = sum_all_h5_data_db_parallel(sid_list, det = det_name)\n",
    "roi = select_roi(np.log(tot+1))"
   ]
  },
  {
   "cell_type": "code",
   "execution_count": 5,
   "id": "caf240fa",
   "metadata": {},
   "outputs": [
    {
     "name": "stdout",
     "output_type": "stream",
     "text": [
      "write parameters to //data//users//2025Q2//Marschilok_2025Q2//nanoRSM//346726-346736_2//parameters.json\n"
     ]
    }
   ],
   "source": [
    "# save all parameters to a json file for future reference\n",
    "\n",
    "scan_row = im_row\n",
    "scan_col = im_col\n",
    "mon_name = 'sclr1_ch4'\n",
    "threshold = None\n",
    "roi_offset = [0,0]\n",
    "data_store = 'reduced' # this will reduce the data stored. If use 'full' it can be over 100G\n",
    "microscope = 'mll' # choose 'mll' or 'zp'\n",
    "\n",
    "params_db = read_params_db(sid_list,microscope=microscope,det=det_name)\n",
    "params_user = {\"scan ids\": sid_list,\n",
    "               \"fluorescence data path\": data_path,\n",
    "               \"output path\": output_path,\n",
    "               \"element list\": elem_list,\n",
    "               \"element for alignment\": elem,\n",
    "               \"alignment matrix\": trans_matrix,\n",
    "               \"scan dimensions\": [scan_row,scan_col],\n",
    "               \"detector name\": det_name,\n",
    "               \"detector roi\": roi,\n",
    "               \"threshold\": threshold,\n",
    "               \"monitor\": mon_name,\n",
    "               \"roi offset\": roi_offset,\n",
    "               \"data store\": data_store\n",
    "              }\n",
    "params = params_db | params_user\n",
    "\n",
    "if not os.path.exists(output_path):\n",
    "    os.makedirs(output_path)\n",
    "    print(f\"Created directory: {output_path}\")\n",
    "    \n",
    "params = convert_numpy(params)\n",
    "\n",
    "with open(f\"{output_path}parameters.json\", \"w\") as f:\n",
    "    json.dump(params, f, indent=4)\n",
    "    print(f\"write parameters to {output_path}parameters.json\")\n"
   ]
  },
  {
   "cell_type": "code",
   "execution_count": 6,
   "id": "7b81031f",
   "metadata": {
    "scrolled": true
   },
   "outputs": [
    {
     "name": "stderr",
     "output_type": "stream",
     "text": [
      "/nsls2/conda/envs/2025-2.0-py311-tiled/lib/python3.11/site-packages/pymongo/synchronous/mongo_client.py:2554: UserWarning: MongoClient opened before fork. May not be entirely fork-safe, proceed with caution. See PyMongo's documentation for details: https://www.mongodb.com/docs/languages/python/pymongo-driver/current/faq/#is-pymongo-fork-safe-\n",
      "  return self._read() if self._is_read else self._write()\n"
     ]
    },
    {
     "data": {
      "application/vnd.jupyter.widget-view+json": {
       "model_id": "e0b2974cbd184999910aa51ed57437ae",
       "version_major": 2,
       "version_minor": 0
      },
      "text/plain": [
       "Progress:   0%|          | 0/6 [00:00<?, ?it/s]"
      ]
     },
     "metadata": {},
     "output_type": "display_data"
    },
    {
     "name": "stderr",
     "output_type": "stream",
     "text": [
      "/nsls2/conda/envs/2025-2.0-py311-tiled/lib/python3.11/site-packages/pymongo/synchronous/mongo_client.py:2554: UserWarning: MongoClient opened before fork. May not be entirely fork-safe, proceed with caution. See PyMongo's documentation for details: https://www.mongodb.com/docs/languages/python/pymongo-driver/current/faq/#is-pymongo-fork-safe-\n",
      "  return self._read() if self._is_read else self._write()\n",
      "/nsls2/conda/envs/2025-2.0-py311-tiled/lib/python3.11/site-packages/pymongo/synchronous/mongo_client.py:2554: UserWarning: MongoClient opened before fork. May not be entirely fork-safe, proceed with caution. See PyMongo's documentation for details: https://www.mongodb.com/docs/languages/python/pymongo-driver/current/faq/#is-pymongo-fork-safe-\n",
      "  return self._read() if self._is_read else self._write()\n",
      "/nsls2/conda/envs/2025-2.0-py311-tiled/lib/python3.11/site-packages/pymongo/synchronous/mongo_client.py:2554: UserWarning: MongoClient opened before fork. May not be entirely fork-safe, proceed with caution. See PyMongo's documentation for details: https://www.mongodb.com/docs/languages/python/pymongo-driver/current/faq/#is-pymongo-fork-safe-\n",
      "  return self._read() if self._is_read else self._write()\n",
      "/nsls2/conda/envs/2025-2.0-py311-tiled/lib/python3.11/site-packages/pymongo/synchronous/mongo_client.py:2554: UserWarning: MongoClient opened before fork. May not be entirely fork-safe, proceed with caution. See PyMongo's documentation for details: https://www.mongodb.com/docs/languages/python/pymongo-driver/current/faq/#is-pymongo-fork-safe-\n",
      "  return self._read() if self._is_read else self._write()\n",
      "/nsls2/conda/envs/2025-2.0-py311-tiled/lib/python3.11/site-packages/pymongo/synchronous/mongo_client.py:2554: UserWarning: MongoClient opened before fork. May not be entirely fork-safe, proceed with caution. See PyMongo's documentation for details: https://www.mongodb.com/docs/languages/python/pymongo-driver/current/faq/#is-pymongo-fork-safe-\n",
      "  return self._read() if self._is_read else self._write()\n"
     ]
    },
    {
     "data": {
      "application/vnd.jupyter.widget-view+json": {
       "model_id": "96f7802779d94624ba3e938798f17368",
       "version_major": 2,
       "version_minor": 0
      },
      "text/plain": [
       "Parallel interp_sub_pix:   0%|          | 0/6 [00:00<?, ?it/s]"
      ]
     },
     "metadata": {},
     "output_type": "display_data"
    }
   ],
   "source": [
    "# load diffraction patterns and align them\n",
    "\n",
    "diff_data = load_h5_data_db_parallel(sid_list,det=det_name,mon=mon_name,roi=roi,threshold=threshold)\n",
    "# diff_data = nanorsm.load_h5_files_parallel(files,roi)\n",
    "sz = diff_data.shape\n",
    "diff_data = np.reshape(diff_data,(sz[0],scan_row,scan_col,sz[2],sz[3]))\n",
    "diff_data = interp_sub_pix(diff_data,trans_matrix)\n"
   ]
  },
  {
   "cell_type": "code",
   "execution_count": 7,
   "id": "bfa63107",
   "metadata": {
    "scrolled": true
   },
   "outputs": [
    {
     "data": {
      "application/vnd.jupyter.widget-view+json": {
       "model_id": "568904003b3844a1bfe1ddc8e7f8b715",
       "version_major": 2,
       "version_minor": 0
      },
      "text/plain": [
       "Processing scans in parallel:   0%|          | 0/3600 [00:00<?, ?it/s]"
      ]
     },
     "metadata": {},
     "output_type": "display_data"
    },
    {
     "name": "stdout",
     "output_type": "stream",
     "text": [
      "raw det_data is deleted\n",
      "qxz_data: [pos,qx,qz] with dimensions of (60, 60, 8, 619)\n",
      "qyz_data: [pos,qy,qz] with dimensions of (60, 60, 99, 619)\n"
     ]
    },
    {
     "data": {
      "application/vnd.jupyter.widget-view+json": {
       "model_id": "3d22c47c5f614809882f4d703e761f54",
       "version_major": 2,
       "version_minor": 0
      },
      "text/plain": [
       "  0%|          | 0/3600 [00:00<?, ?it/s]"
      ]
     },
     "metadata": {},
     "output_type": "display_data"
    }
   ],
   "source": [
    "### transform to cartesian crystal coordinates (z along hkl and x is the rocking direction)\n",
    "\n",
    "energy = params['energy']\n",
    "delta = params['delta']\n",
    "gamma = params['gamma']\n",
    "num_angle = params['number of angles']\n",
    "th_step = params['angle step']\n",
    "pix = params['pixel size']\n",
    "det_dist = params['detector distance']\n",
    "offset = np.asarray(params['roi offset'])\n",
    "data_store = params['data store']  \n",
    "\n",
    "method = {'fit_type': 'com',# fitting method: center of mass, 'com' or 'peak'\n",
    "         'shape': 'gaussian', # peak shape: 'gaussian', 'lorentzian', or 'voigt'\n",
    "         'n_peaks': [1,1,1], # number of peaks in each direction along qx, qy, and qz\n",
    "          'mask': 'tot', # reference image used for reference\n",
    "          'mask threshold': 0.1 # pixels with values below maximun*thresh are set to zero\n",
    "         }  \n",
    "\n",
    "\n",
    "# generate an object of the RSM class\n",
    "rsm = RSM(diff_data,energy,delta,gamma,num_angle,th_step,pix,det_dist,offset,stack,elem_list)\n",
    "# transform from detector coordinates to crystal coordinates\n",
    "rsm.calcRSM('cryst',data_store,desired_workers=10)\n",
    "# calculate strain\n",
    "# 'com', center of mass, is a simple algorithm to calculate the strain. Note: There is an abitrary offset\n",
    "rsm.calcSTRAIN(method) \n",
    "# show results\n",
    "rsm.disp()\n",
    "# save results\n",
    "rsm.save(output_path)\n",
    "# also save the entire object\n",
    "save_file = f\"{output_path}all_data.obj\"\n",
    "pickle.dump(rsm, open(save_file,'wb'),protocol = 4)"
   ]
  },
  {
   "cell_type": "code",
   "execution_count": 9,
   "id": "72a328d1",
   "metadata": {
    "scrolled": true
   },
   "outputs": [
    {
     "ename": "ValueError",
     "evalue": "setting an array element with a sequence. The requested array has an inhomogeneous shape after 4 dimensions. The detected shape was (2, 60, 60, 619) + inhomogeneous part.",
     "output_type": "error",
     "traceback": [
      "\u001b[31m---------------------------------------------------------------------------\u001b[39m",
      "\u001b[31mValueError\u001b[39m                                Traceback (most recent call last)",
      "\u001b[36mCell\u001b[39m\u001b[36m \u001b[39m\u001b[32mIn[9]\u001b[39m\u001b[32m, line 1\u001b[39m\n\u001b[32m----> \u001b[39m\u001b[32m1\u001b[39m \u001b[43mrsm\u001b[49m\u001b[43m.\u001b[49m\u001b[43mrun_interactive\u001b[49m\u001b[43m(\u001b[49m\u001b[43mscale\u001b[49m\u001b[43m=\u001b[49m\u001b[33;43m'\u001b[39;49m\u001b[33;43mlog\u001b[39;49m\u001b[33;43m'\u001b[39;49m\u001b[43m)\u001b[49m\n",
      "\u001b[36mFile \u001b[39m\u001b[32m/nsls2/data2/hxn/legacy/users/data_analysis/Nanodiffraction/nanorsm_parallel.py:1010\u001b[39m, in \u001b[36mRSM.run_interactive\u001b[39m\u001b[34m(self, scale)\u001b[39m\n\u001b[32m   1008\u001b[39m     disp_data = [np.swapaxes(\u001b[38;5;28mself\u001b[39m.qxz_data,-\u001b[32m1\u001b[39m,-\u001b[32m2\u001b[39m),np.swapaxes(\u001b[38;5;28mself\u001b[39m.qyz_data,-\u001b[32m1\u001b[39m,-\u001b[32m2\u001b[39m)]\n\u001b[32m   1009\u001b[39m \u001b[38;5;28;01mif\u001b[39;00m scale == \u001b[33m'\u001b[39m\u001b[33mlog\u001b[39m\u001b[33m'\u001b[39m:\n\u001b[32m-> \u001b[39m\u001b[32m1010\u001b[39m     disp_data = \u001b[43mnp\u001b[49m\u001b[43m.\u001b[49m\u001b[43mlog\u001b[49m\u001b[43m(\u001b[49m\u001b[43mdisp_data\u001b[49m\u001b[43m)\u001b[49m\n\u001b[32m   1011\u001b[39m interactive_map(names,im_stack,[\u001b[33m'\u001b[39m\u001b[33mqx vs qz\u001b[39m\u001b[33m'\u001b[39m,\u001b[33m'\u001b[39m\u001b[33mqy vs qz\u001b[39m\u001b[33m'\u001b[39m],disp_data)\n\u001b[32m   1012\u001b[39m \u001b[38;5;28;01mreturn\u001b[39;00m\n",
      "\u001b[31mValueError\u001b[39m: setting an array element with a sequence. The requested array has an inhomogeneous shape after 4 dimensions. The detected shape was (2, 60, 60, 619) + inhomogeneous part."
     ]
    }
   ],
   "source": [
    "rsm.run_interactive(scale='log')"
   ]
  },
  {
   "cell_type": "code",
   "execution_count": null,
   "id": "previous-segment",
   "metadata": {
    "scrolled": true
   },
   "outputs": [],
   "source": [
    "qz = np.sum(rsm.qxz_data,-2)\n",
    "plt.figure()\n",
    " \n",
    "x = rsm.zq[0,0,:]\n",
    "y = qz[35,35,:]\n",
    "popt, fit_y = fit_peaks(x, y,peak_type='gaussian',n_peaks=3)\n",
    "plt.plot(x,y,'black',x,fit_y,'red')\n",
    "plt.show(block=False)"
   ]
  },
  {
   "cell_type": "code",
   "execution_count": null,
   "id": "4fe96d22",
   "metadata": {},
   "outputs": [],
   "source": [
    "method = {'fit_type': 'peak',# fitting method: center of mass, 'com' or 'peak'\n",
    "         'shape': 'gaussian', # peak shape: 'gaussian', 'lorentzian', or 'voigt'\n",
    "         'n_peaks': [1,1,1],\n",
    "          'mask': 'tot',\n",
    "          'mask threshold': 0.1\n",
    "         } # number of peaks in each direction, qx, qy, and qz\n",
    "\n",
    "rsm.calcSTRAIN(method) \n",
    "# show results\n",
    "rsm.disp()"
   ]
  },
  {
   "cell_type": "code",
   "execution_count": null,
   "id": "cbd23422",
   "metadata": {},
   "outputs": [],
   "source": [
    "t = np.zeros_like(rsm.fluo_stack[0])\n",
    "maxV = np.max(rsm.tot)\n",
    "t[np.argwhere(rsm.tot>maxV*0.1)] = 1\n",
    "plt.imshow(rsm.strain*t)\n",
    "plt.show(block=False)"
   ]
  },
  {
   "cell_type": "code",
   "execution_count": null,
   "id": "2085ba7b",
   "metadata": {},
   "outputs": [],
   "source": []
  },
  {
   "cell_type": "code",
   "execution_count": null,
   "id": "f1850d4c",
   "metadata": {},
   "outputs": [],
   "source": [
    "params = {\"scan ids\": sid_list,\n",
    "          \"fluorescence data path\": data_path,\n",
    "          \"output path\": output_path,\n",
    "          \"element list\": elem_list,\n",
    "          \"element for alignment\": elem,\n",
    "          \"alignment matrix\": trans_matrix,\n",
    "          \"scan dimensions\": [scan_row,scan_col],\n",
    "          \"detector name\": \"merlin1\",\n",
    "          \"detector roi\": roi,\n",
    "          \"threshold\": None,\n",
    "          \"monitor\": \"sclr1_ch4\",\n",
    "          \"energy\": energy,\n",
    "          \"gamma\": gamma,\n",
    "          \"delta\": delta,\n",
    "          \"number of angles\": num_angle,\n",
    "          \"angle step\": th_step,\n",
    "          \"pixel size\": pix,\n",
    "          \"roi offset\": offset,\n",
    "          \"data store\": \"reduced\",\n",
    "          \"detector distance\": det_dist,\n",
    "         }\n",
    "if not os.path.exists(output_path):\n",
    "    os.makedirs(output_path)\n",
    "    print(f\"Created directory: {output_path}\")\n",
    "\n",
    "def convert_numpy(obj):\n",
    "    if isinstance(obj, np.ndarray):\n",
    "        return obj.tolist()\n",
    "    elif isinstance(obj, dict):\n",
    "        return {k: convert_numpy(v) for k, v in obj.items()}\n",
    "    elif isinstance(obj, list):\n",
    "        return [convert_numpy(i) for i in obj]\n",
    "    else:\n",
    "        return obj\n",
    "params_cleaned = convert_numpy(params)\n",
    "    \n",
    "with open(f\"{output_path}parameters.json\", \"w\") as f:\n",
    "    json.dump(params_cleaned, f, indent=4)\n",
    "    print(f\"write parameters to {output_path}parameters.json\")"
   ]
  },
  {
   "cell_type": "code",
   "execution_count": null,
   "id": "009c6993",
   "metadata": {},
   "outputs": [],
   "source": []
  }
 ],
 "metadata": {
  "kernelspec": {
   "display_name": "Python 3 (ipykernel)",
   "language": "python",
   "name": "python3"
  },
  "language_info": {
   "codemirror_mode": {
    "name": "ipython",
    "version": 3
   },
   "file_extension": ".py",
   "mimetype": "text/x-python",
   "name": "python",
   "nbconvert_exporter": "python",
   "pygments_lexer": "ipython3",
   "version": "3.11.11"
  }
 },
 "nbformat": 4,
 "nbformat_minor": 5
}
