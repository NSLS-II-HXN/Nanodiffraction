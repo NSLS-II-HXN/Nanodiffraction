{
 "cells": [
  {
   "cell_type": "code",
   "execution_count": 2,
   "id": "raising-affair",
   "metadata": {},
   "outputs": [
    {
     "name": "stdout",
     "output_type": "stream",
     "text": [
      "Using matplotlib backend: Qt5Agg\n"
     ]
    }
   ],
   "source": [
    "%matplotlib\n",
    "from nanorsm import *"
   ]
  },
  {
   "cell_type": "code",
   "execution_count": 7,
   "id": "upper-domestic",
   "metadata": {},
   "outputs": [
    {
     "data": {
      "application/vnd.jupyter.widget-view+json": {
       "model_id": "a2249096fb804373bb2f45541c407fc0",
       "version_major": 2,
       "version_minor": 0
      },
      "text/plain": [
       "Progress:   0%|          | 0/36 [00:00<?, ?it/s]"
      ]
     },
     "metadata": {},
     "output_type": "display_data"
    },
    {
     "data": {
      "application/vnd.jupyter.widget-view+json": {
       "model_id": "bb1138fd9d8b4baaa5768031becbf1c5",
       "version_major": 2,
       "version_minor": 0
      },
      "text/plain": [
       "Progress:   0%|          | 0/36 [00:00<?, ?it/s]"
      ]
     },
     "metadata": {},
     "output_type": "display_data"
    }
   ],
   "source": [
    "# load elemental image data, align it with pystackreg and generate a tranform matrix\n",
    "\n",
    "data_path = '//data//users//2023Q2//Murray_2023Q2//GAAFET_35_percent_10nm//'\n",
    "sid_list = np.concatenate((np.sort(get_sid_list(['219698-219728'],3))[::-1],get_sid_list(['219620-219692'],3)))\n",
    "#sid_list = get_sid_list(['218921-219056'],3)\n",
    "\n",
    "elem = 'W_L'\n",
    "num = np.size(sid_list)\n",
    "file_list = []\n",
    "for sid in sid_list:\n",
    "    tmp = ''.join([data_path, 'output_tiff_scan2D_','{}'.format(sid), '//detsum_',elem,'_norm.tiff'])\n",
    "    file_list.append(tmp)\n",
    "im_stack = load_ims(file_list)\n",
    "\n",
    "num_frame,im_row,im_col = np.shape(im_stack)\n",
    "\n",
    "im_stack_aligned, trans_matrix = align_im_stack(im_stack) # use pystackreg\n",
    "\n",
    "#im_stack = np.delete(im_stack,0,axis=0)\n",
    "#trans_matrix = np.delete(trans_matrix,0,axis=0)\n",
    "\n",
    "im_stack_test = interp_sub_pix(im_stack,trans_matrix) # verify the alignment is done correctly\n",
    "\n",
    "tifffile.imwrite(''.join([data_path, 'original_rsm_100x100_nm//stack_aligned_', elem, '_100x100_nm.tif']),im_stack_test.astype(np.float32),imagej=True)"
   ]
  },
  {
   "cell_type": "code",
   "execution_count": 26,
   "id": "closing-essay",
   "metadata": {},
   "outputs": [
    {
     "data": {
      "text/plain": [
       "(32, 70, 40)"
      ]
     },
     "execution_count": 26,
     "metadata": {},
     "output_type": "execute_result"
    }
   ],
   "source": [
    "np.delete(im_stack,0,axis=0).shape"
   ]
  },
  {
   "cell_type": "code",
   "execution_count": 16,
   "id": "animal-phoenix",
   "metadata": {},
   "outputs": [
    {
     "data": {
      "text/plain": [
       "array([219728, 219725, 219722, 219719, 219716, 219713, 219710, 219707,\n",
       "       219704, 219701, 219698, 219531, 219534, 219537, 219540, 219543,\n",
       "       219546, 219549, 219552, 219555, 219558, 219561, 219564, 219567,\n",
       "       219570, 219573, 219576, 219579, 219582, 219585, 219588])"
      ]
     },
     "execution_count": 16,
     "metadata": {},
     "output_type": "execute_result"
    }
   ],
   "source": [
    "sid_list = np.concatenate((np.sort(get_sid_list(['219698-219728'],3))[::-1],get_sid_list(['219531-219588'],3)))\n",
    "sid_list"
   ]
  },
  {
   "cell_type": "code",
   "execution_count": 8,
   "id": "residential-chart",
   "metadata": {
    "scrolled": true
   },
   "outputs": [
    {
     "data": {
      "application/vnd.jupyter.widget-view+json": {
       "model_id": "2403f1a556ce40368cd18a970df48791",
       "version_major": 2,
       "version_minor": 0
      },
      "text/plain": [
       "Progress:   0%|          | 0/36 [00:00<?, ?it/s]"
      ]
     },
     "metadata": {},
     "output_type": "display_data"
    },
    {
     "data": {
      "application/vnd.jupyter.widget-view+json": {
       "model_id": "2d9fddadf286463989954970d0bacb28",
       "version_major": 2,
       "version_minor": 0
      },
      "text/plain": [
       "Progress:   0%|          | 0/36 [00:00<?, ?it/s]"
      ]
     },
     "metadata": {},
     "output_type": "display_data"
    },
    {
     "data": {
      "application/vnd.jupyter.widget-view+json": {
       "model_id": "961f28e8e5464197b50eeace8f53be76",
       "version_major": 2,
       "version_minor": 0
      },
      "text/plain": [
       "Progress:   0%|          | 0/36 [00:00<?, ?it/s]"
      ]
     },
     "metadata": {},
     "output_type": "display_data"
    },
    {
     "data": {
      "application/vnd.jupyter.widget-view+json": {
       "model_id": "f3cf15c0b8944e04a158a906055a4a12",
       "version_major": 2,
       "version_minor": 0
      },
      "text/plain": [
       "Progress:   0%|          | 0/36 [00:00<?, ?it/s]"
      ]
     },
     "metadata": {},
     "output_type": "display_data"
    },
    {
     "data": {
      "application/vnd.jupyter.widget-view+json": {
       "model_id": "c997a03c1f9f4f5597b05b5b262223ec",
       "version_major": 2,
       "version_minor": 0
      },
      "text/plain": [
       "Progress:   0%|          | 0/36 [00:00<?, ?it/s]"
      ]
     },
     "metadata": {},
     "output_type": "display_data"
    },
    {
     "data": {
      "application/vnd.jupyter.widget-view+json": {
       "model_id": "28e54cdd30034c86962a12501bee1e04",
       "version_major": 2,
       "version_minor": 0
      },
      "text/plain": [
       "Progress:   0%|          | 0/36 [00:00<?, ?it/s]"
      ]
     },
     "metadata": {},
     "output_type": "display_data"
    }
   ],
   "source": [
    "# if there are more elements to be aligned and stacked\n",
    "elem_list = ['Cu_K','Ge_K','Ti_K']\n",
    "#sid_list = get_sid_list(['219792-219888'],3)\n",
    "\n",
    "num = np.size(sid_list)\n",
    "i = 1\n",
    "for elem in elem_list:\n",
    "    file_list = []\n",
    "    for sid in sid_list:\n",
    "        tmp = ''.join([data_path, 'output_tiff_scan2D_','{}'.format(sid), '//detsum_',elem,'_norm.tiff'])\n",
    "        \n",
    "        file_list.append(tmp)\n",
    "    im_stack = load_ims(file_list)\n",
    "    \n",
    "    im_stack_test = interp_sub_pix(im_stack,trans_matrix)\n",
    "    imp = np.sum(im_stack_test,0)\n",
    "    imp.shape\n",
    "    if i == 1:\n",
    "        stack = imp\n",
    "        sz = np.shape(imp)\n",
    "        stack = np.reshape(stack, (1,sz[0],sz[1]))\n",
    "    else:\n",
    "        stack = np.concatenate((stack,imp[np.newaxis,:,:]),0)\n",
    "    i = i+1\n",
    "    tifffile.imwrite(''.join([data_path, 'original_rsm_100x100_nm//stack_aligned_', elem, '_100x100_nm.tif']),im_stack_test.astype(np.float32),imagej=True)"
   ]
  },
  {
   "cell_type": "code",
   "execution_count": 19,
   "id": "mounted-special",
   "metadata": {},
   "outputs": [
    {
     "data": {
      "text/plain": [
       "<matplotlib.image.AxesImage at 0x7f2a9d76c290>"
      ]
     },
     "execution_count": 19,
     "metadata": {},
     "output_type": "execute_result"
    }
   ],
   "source": [
    "plt.imshow(np.log10(tot*mask+0.1),clim=[0.1,3.5])\n",
    "#tifffile.imwrite('/data/users/2023Q2/Murray_2023Q2/Substrate_35_perc_sum_all.tif',tot.astype(np.float32))"
   ]
  },
  {
   "cell_type": "code",
   "execution_count": 51,
   "id": "encouraging-commerce",
   "metadata": {
    "scrolled": true
   },
   "outputs": [
    {
     "data": {
      "application/vnd.jupyter.widget-view+json": {
       "model_id": "b38678042a8a40aa81f28e1a219aa6ef",
       "version_major": 2,
       "version_minor": 0
      },
      "text/plain": [
       "Progress:   0%|          | 0/46 [00:00<?, ?it/s]"
      ]
     },
     "metadata": {},
     "output_type": "display_data"
    },
    {
     "ename": "ValueError",
     "evalue": "operands could not be broadcast together with shapes (410,318) (502,495) ",
     "output_type": "error",
     "traceback": [
      "\u001b[0;31m---------------------------------------------------------------------------\u001b[0m",
      "\u001b[0;31mValueError\u001b[0m                                Traceback (most recent call last)",
      "\u001b[0;32m<ipython-input-51-161c59866246>\u001b[0m in \u001b[0;36m<module>\u001b[0;34m\u001b[0m\n\u001b[1;32m      2\u001b[0m \u001b[0mtot\u001b[0m \u001b[0;34m=\u001b[0m \u001b[0msum_all_h5_data_db\u001b[0m\u001b[0;34m(\u001b[0m\u001b[0msid_list\u001b[0m\u001b[0;34m,\u001b[0m\u001b[0;34m'merlin2'\u001b[0m\u001b[0;34m)\u001b[0m\u001b[0;34m\u001b[0m\u001b[0;34m\u001b[0m\u001b[0m\n\u001b[1;32m      3\u001b[0m \u001b[0mplt\u001b[0m\u001b[0;34m.\u001b[0m\u001b[0mfigure\u001b[0m\u001b[0;34m(\u001b[0m\u001b[0;34m)\u001b[0m\u001b[0;34m\u001b[0m\u001b[0;34m\u001b[0m\u001b[0m\n\u001b[0;32m----> 4\u001b[0;31m \u001b[0mplt\u001b[0m\u001b[0;34m.\u001b[0m\u001b[0mimshow\u001b[0m\u001b[0;34m(\u001b[0m\u001b[0mnp\u001b[0m\u001b[0;34m.\u001b[0m\u001b[0mlog10\u001b[0m\u001b[0;34m(\u001b[0m\u001b[0mtot\u001b[0m\u001b[0;34m*\u001b[0m\u001b[0mmask\u001b[0m\u001b[0;34m+\u001b[0m\u001b[0;36m1\u001b[0m\u001b[0;34m)\u001b[0m\u001b[0;34m,\u001b[0m\u001b[0mclim\u001b[0m\u001b[0;34m=\u001b[0m\u001b[0;34m[\u001b[0m\u001b[0;36m0.25\u001b[0m\u001b[0;34m,\u001b[0m\u001b[0;36m2\u001b[0m\u001b[0;34m]\u001b[0m\u001b[0;34m)\u001b[0m\u001b[0;34m\u001b[0m\u001b[0;34m\u001b[0m\u001b[0m\n\u001b[0m",
      "\u001b[0;31mValueError\u001b[0m: operands could not be broadcast together with shapes (410,318) (502,495) "
     ]
    }
   ],
   "source": [
    "#sid_list = get_sid_list(['219422'],1)\n",
    "tot = sum_all_h5_data_db(sid_list,'merlin2') \n",
    "plt.figure()\n",
    "plt.imshow(np.log10(tot),clim=[0.25,2])"
   ]
  },
  {
   "cell_type": "code",
   "execution_count": 53,
   "id": "ongoing-cartridge",
   "metadata": {},
   "outputs": [
    {
     "name": "stderr",
     "output_type": "stream",
     "text": [
      "/opt/conda_envs/nsls2-analysis-2021-1.2/lib/python3.7/site-packages/ipykernel_launcher.py:2: RuntimeWarning: divide by zero encountered in log10\n",
      "  \n"
     ]
    },
    {
     "data": {
      "text/plain": [
       "<matplotlib.image.AxesImage at 0x7f2a0cea5750>"
      ]
     },
     "execution_count": 53,
     "metadata": {},
     "output_type": "execute_result"
    }
   ],
   "source": [
    "plt.figure()\n",
    "plt.imshow(np.log10(tot),clim=[0.25,5])"
   ]
  },
  {
   "cell_type": "code",
   "execution_count": 8,
   "id": "solar-artwork",
   "metadata": {},
   "outputs": [
    {
     "name": "stderr",
     "output_type": "stream",
     "text": [
      "/opt/conda_envs/nsls2-analysis-2021-1.2/lib/python3.7/site-packages/ipykernel_launcher.py:3: RuntimeWarning: divide by zero encountered in log10\n",
      "  This is separate from the ipykernel package so we can avoid doing imports until\n"
     ]
    },
    {
     "data": {
      "text/plain": [
       "<matplotlib.image.AxesImage at 0x7f2a92dcdf50>"
      ]
     },
     "execution_count": 8,
     "metadata": {},
     "output_type": "execute_result"
    }
   ],
   "source": [
    "mask = np.asarray(tifffile.imread('//data//users//2023Q2//Murray_2023Q2//nanodiffraction//mask.tif'))\n",
    "plt.figure()\n",
    "plt.imshow(np.log10(mask),clim=[0,5])"
   ]
  },
  {
   "cell_type": "code",
   "execution_count": null,
   "id": "intensive-suggestion",
   "metadata": {},
   "outputs": [],
   "source": [
    "# sum all diffraction patterns from local files to determine roi and mask\n",
    "# data_path = '//data//home//home//hyan//export//scan_180000//'\n",
    "#prefix = 'scan_'\n",
    "#postfix = '_merlin1.h5'\n",
    "\n",
    "#data_file_list = create_file_list(data_path, prefix, postfix, sid_list)\n",
    "#tot = sum_all_h5_data(data_file_list)\n",
    "#plt.imshow(np.log10(tot+0.1),clim=[1,5])"
   ]
  },
  {
   "cell_type": "code",
   "execution_count": null,
   "id": "coated-indian",
   "metadata": {},
   "outputs": [],
   "source": [
    "# determine from tot image\n",
    "#mask = np.ones(tot.shape)\n",
    "\n",
    "#plt.imshow(np.log10(tot*mask+0.1))\n",
    "#roi = [185,105,160,130]"
   ]
  },
  {
   "cell_type": "code",
   "execution_count": 4,
   "id": "logical-breeding",
   "metadata": {
    "scrolled": true
   },
   "outputs": [
    {
     "data": {
      "application/vnd.jupyter.widget-view+json": {
       "model_id": "dd0bfb4fc5744e57bddd0bfedfd8b95d",
       "version_major": 2,
       "version_minor": 0
      },
      "text/plain": [
       "Progress:   0%|          | 0/46 [00:00<?, ?it/s]"
      ]
     },
     "metadata": {},
     "output_type": "display_data"
    },
    {
     "name": "stdout",
     "output_type": "stream",
     "text": [
      "Total scan points: 11000; raw image row: 410; raw image col: 318\n",
      "Total scan points: 11000; data image row: 120; data image col: 250\n"
     ]
    },
    {
     "data": {
      "application/vnd.jupyter.widget-view+json": {
       "model_id": "61f76935ed3e4f188174e71476b1a4a3",
       "version_major": 2,
       "version_minor": 0
      },
      "text/plain": [
       "Progress:   0%|          | 0/46 [00:00<?, ?it/s]"
      ]
     },
     "metadata": {},
     "output_type": "display_data"
    }
   ],
   "source": [
    "# Load, normalize, align, and assemble diffraction data through databroker\n",
    "# diff_data is the 5D dataset aligned; make sure your machine has enough memory\n",
    "roi = [180,5,120,250]\n",
    "#mask = np.asarray(tifffile.imread('//data//users//2023Q2//Murray_2023Q2//nanodiffraction//mask.tif'))\n",
    "\n",
    "scan_row = im_row\n",
    "scan_col = im_col\n",
    "\n",
    "diff_data = load_h5_data_db(sid_list,det='merlin2', mon='sclr1_ch4', roi=roi)\n",
    "\n",
    "sz = diff_data.shape\n",
    "diff_data = np.reshape(diff_data,(sz[0],scan_row,scan_col,sz[2],sz[3]))\n",
    "diff_data = interp_sub_pix(diff_data,trans_matrix)"
   ]
  },
  {
   "cell_type": "code",
   "execution_count": 5,
   "id": "indian-control",
   "metadata": {},
   "outputs": [
    {
     "data": {
      "text/plain": [
       "<matplotlib.image.AxesImage at 0x7f0c34f03810>"
      ]
     },
     "execution_count": 5,
     "metadata": {},
     "output_type": "execute_result"
    }
   ],
   "source": [
    "plt.figure()\n",
    "plt.imshow(diff_data[0,20,20,:,:])"
   ]
  },
  {
   "cell_type": "code",
   "execution_count": 43,
   "id": "plain-wellington",
   "metadata": {},
   "outputs": [],
   "source": [
    "diff_data[:,:,:,66,146] = 0\n",
    "diff_data[:,:,:,188,107] = 0"
   ]
  },
  {
   "cell_type": "code",
   "execution_count": null,
   "id": "classical-clark",
   "metadata": {},
   "outputs": [],
   "source": [
    "# Load, normalize, align, and assemble diffraction data \n",
    "# diff_data is the 5D dataset aligned; make sure your machine has enough memory\n",
    "'''\n",
    "data_path = '//data//home//home//hyan//export//scan_180000//'\n",
    "prefix = 'scan_'\n",
    "postfix = '_merlin1.h5'\n",
    "scan_row = 100\n",
    "scan_col = 100\n",
    "\n",
    "data_file_list = create_file_list(data_path, prefix, postfix, sid_list)\n",
    "diff_data = load_h5_data(data_file_list,roi=roi,mask=mask)\n",
    "\n",
    "postfix = '_merlin1.txt'\n",
    "mon_file_list = create_file_list(data_path, prefix, postfix, sid_list)\n",
    "\n",
    "mon_data = load_scaler_data(mon_file_list,['sclr1_ch4'])\n",
    "\n",
    "# First scaler reading of each scan is zero; refill with first non-zero reading\n",
    "avg = np.mean(mon_data[mon_data != 0])\n",
    "mon_data[mon_data==0] = avg \n",
    "\n",
    "sz = diff_data.shape\n",
    "\n",
    "diff_data = (diff_data/mon_data[:,np.newaxis,np.newaxis])\n",
    "\n",
    "diff_data = np.reshape(diff_data,(sz[0],scan_row,scan_col,sz[2],sz[3]))\n",
    "diff_data = interp_sub_pix(diff_data,trans_matrix)\n",
    "'''"
   ]
  },
  {
   "cell_type": "code",
   "execution_count": 6,
   "id": "ambient-africa",
   "metadata": {
    "scrolled": true
   },
   "outputs": [
    {
     "data": {
      "application/vnd.jupyter.widget-view+json": {
       "model_id": "74d0670ec6744b739625e27a4908a08a",
       "version_major": 2,
       "version_minor": 0
      },
      "text/plain": [
       "Progress:   0%|          | 0/100 [00:00<?, ?it/s]"
      ]
     },
     "metadata": {},
     "output_type": "display_data"
    },
    {
     "ename": "FileNotFoundError",
     "evalue": "[Errno 2] No such file or directory: '//data//users//2023Q2//Murray_2023Q2//Blanket_film_overnight//original_rsm_blanket_film//rsm_35_blanket_film.obj'",
     "output_type": "error",
     "traceback": [
      "\u001b[0;31m---------------------------------------------------------------------------\u001b[0m",
      "\u001b[0;31mFileNotFoundError\u001b[0m                         Traceback (most recent call last)",
      "\u001b[0;32m<ipython-input-6-c83dfdff9cf8>\u001b[0m in \u001b[0;36m<module>\u001b[0;34m\u001b[0m\n\u001b[1;32m     25\u001b[0m \u001b[0;31m# also save the entire object\u001b[0m\u001b[0;34m\u001b[0m\u001b[0;34m\u001b[0m\u001b[0;34m\u001b[0m\u001b[0m\n\u001b[1;32m     26\u001b[0m \u001b[0msave_file\u001b[0m \u001b[0;34m=\u001b[0m \u001b[0;34m''\u001b[0m\u001b[0;34m.\u001b[0m\u001b[0mjoin\u001b[0m\u001b[0;34m(\u001b[0m\u001b[0;34m[\u001b[0m\u001b[0msave_path\u001b[0m\u001b[0;34m,\u001b[0m\u001b[0;34m'rsm_35_blanket_film.obj'\u001b[0m\u001b[0;34m]\u001b[0m\u001b[0;34m)\u001b[0m\u001b[0;34m\u001b[0m\u001b[0;34m\u001b[0m\u001b[0m\n\u001b[0;32m---> 27\u001b[0;31m \u001b[0mpickle\u001b[0m\u001b[0;34m.\u001b[0m\u001b[0mdump\u001b[0m\u001b[0;34m(\u001b[0m\u001b[0mrsm\u001b[0m\u001b[0;34m,\u001b[0m \u001b[0mopen\u001b[0m\u001b[0;34m(\u001b[0m\u001b[0msave_file\u001b[0m\u001b[0;34m,\u001b[0m\u001b[0;34m'wb'\u001b[0m\u001b[0;34m)\u001b[0m\u001b[0;34m,\u001b[0m\u001b[0mprotocol\u001b[0m \u001b[0;34m=\u001b[0m \u001b[0;36m4\u001b[0m\u001b[0;34m)\u001b[0m\u001b[0;34m\u001b[0m\u001b[0;34m\u001b[0m\u001b[0m\n\u001b[0m",
      "\u001b[0;31mFileNotFoundError\u001b[0m: [Errno 2] No such file or directory: '//data//users//2023Q2//Murray_2023Q2//Blanket_film_overnight//original_rsm_blanket_film//rsm_35_blanket_film.obj'"
     ]
    }
   ],
   "source": [
    "# transform to cartesian crystal coordinates (z along hkl and x is the rocking direction)\n",
    "\n",
    "energy = 12\n",
    "delta = 0\n",
    "gamma = 44.7\n",
    "num_angle = 46\n",
    "th_step = 0.02\n",
    "pix = 55\n",
    "det_dist = 4e5\n",
    "offset = [0,0]\n",
    "data_store = 'reduced' # this will reduce the data stored. If use 'full' it can be over 100G\n",
    "save_path = ''.join([data_path,'original_rsm_blanket_film//'])\n",
    "\n",
    "# generate an object of the RSM class\n",
    "rsm = RSM(diff_data,energy,delta,gamma,num_angle,th_step,pix,det_dist,offset)\n",
    "# transform from detector coordinates to crystal coordinates\n",
    "rsm.calcRSM('cryst',data_store)\n",
    "# calculate strain\n",
    "# 'com', center of mass, is a simple algorithm to calculate the strain. Note: There is an abitrary offset\n",
    "#rsm.calcSTRAIN('com')  \n",
    "# show results\n",
    "#rsm.disp()\n",
    "# save results\n",
    "#rsm.save(save_path)\n",
    "# also save the entire object\n",
    "save_file = ''.join([save_path,'rsm_35_blanket_film.obj'])\n",
    "pickle.dump(rsm, open(save_file,'wb'),protocol = 4)"
   ]
  },
  {
   "cell_type": "code",
   "execution_count": 7,
   "id": "previous-segment",
   "metadata": {},
   "outputs": [],
   "source": [
    "save_file = ''.join([data_path,'rsm_35_blanket_film.obj'])\n",
    "pickle.dump(rsm, open(save_file,'wb'),protocol = 4)"
   ]
  },
  {
   "cell_type": "code",
   "execution_count": null,
   "id": "incredible-pierce",
   "metadata": {},
   "outputs": [],
   "source": [
    "plt.figure()\n",
    "plt.imshow(np.log10(rsm.qxz_data[30,70,:,:].T+1e-7),clim=[-6,0])\n",
    "plt.show()"
   ]
  },
  {
   "cell_type": "code",
   "execution_count": null,
   "id": "coordinated-perry",
   "metadata": {},
   "outputs": [],
   "source": [
    "data_path = '//data//users//2020Q3//Ajith_2020Q3//LPE_FeS2_P4_diff//'\n",
    "save_file = ''.join([data_path,'rsm.obj'])\n",
    "rsm = pickle.load(open(save_file,'rb'))\n",
    "rsm.disp()"
   ]
  },
  {
   "cell_type": "code",
   "execution_count": 44,
   "id": "virtual-peeing",
   "metadata": {},
   "outputs": [
    {
     "data": {
      "text/plain": [
       "<matplotlib.image.AxesImage at 0x7f291610e050>"
      ]
     },
     "execution_count": 44,
     "metadata": {},
     "output_type": "execute_result"
    }
   ],
   "source": [
    "plt.figure()\n",
    "plt.imshow(np.squeeze(np.sum(np.sum(diff_data[-2,:,:,:,:],axis=0),0)))\n"
   ]
  },
  {
   "cell_type": "code",
   "execution_count": 8,
   "id": "boxed-value",
   "metadata": {},
   "outputs": [
    {
     "name": "stdout",
     "output_type": "stream",
     "text": [
      "Using matplotlib backend: Qt5Agg\n"
     ]
    }
   ],
   "source": [
    "%matplotlib\n",
    "interactive_map(['Gu_K','Ge_K','Ti_K'],stack,'rsm',np.log10(np.swapaxes(rsm.qxz_data,2,3)+1e-6),cmap='jet')"
   ]
  },
  {
   "cell_type": "code",
   "execution_count": 76,
   "id": "necessary-essay",
   "metadata": {},
   "outputs": [
    {
     "data": {
      "text/plain": [
       "<matplotlib.image.AxesImage at 0x7fc2d3e1ad10>"
      ]
     },
     "execution_count": 76,
     "metadata": {},
     "output_type": "execute_result"
    }
   ],
   "source": [
    "plt.figure()\n",
    "plt.imshow(np.log10(np.swapaxes(rsm.qxz_data,2,3)[11,25,:,:]+1e-7),cmap='jet',clim=[-4.8,-2.5])"
   ]
  },
  {
   "cell_type": "code",
   "execution_count": null,
   "id": "standard-stamp",
   "metadata": {},
   "outputs": [],
   "source": [
    "# interactive figure\n",
    "\n",
    "%matplotlib qt\n",
    "\n",
    "# load fluorescence image stacks\n",
    "# insert your own code accordingly\n",
    "\n",
    "sum_Ge = np.sum(Ge,0)\n",
    "sum_W = np.sum(W,0)\n",
    "sum_Cu = np.sum(Cu,0)\n",
    "\n",
    "cmap = 'viridis'\n",
    "color = 'red'\n",
    "eps = 1e-5\n",
    "def onclick(event):\n",
    "    global row, col\n",
    "    col, row = event.xdata, event.ydata\n",
    "    if col is not None and row is not None:\n",
    "        row = int(np.round(row))\n",
    "        col = int(np.round(col))\n",
    "        ax0.clear()\n",
    "        ax0.imshow(sum_Ge,cmap=cmap)\n",
    "        ax0.plot(col,row,marker='o',markersize=2, color=color)\n",
    "        ax0.set_title('Ge')\n",
    "        ax1.clear()\n",
    "        ax1.imshow(sum_W,cmap=cmap)\n",
    "        ax1.plot(col,row,marker='o',markersize=2, color=color)\n",
    "        ax1.set_title('W')\n",
    "        ax2.clear()\n",
    "        ax2.imshow(sum_Cu,cmap=cmap)\n",
    "        ax2.plot(col,row,marker='o',markersize=2, color=color)\n",
    "        ax2.set_title('Cu')\n",
    "        ax3.clear()\n",
    "        ax3.imshow(rsm.tot,cmap=cmap)\n",
    "        ax3.plot(col,row,marker='o',markersize=2, color=color)\n",
    "        ax3.set_title('tot')\n",
    "        ax4.clear()\n",
    "        ax4.imshow(np.log10(rsm.qxz_data[row,col,:,:].T+eps),cmap=cmap)\n",
    "        ax4.set_title('RSM')\n",
    "        fig.canvas.draw_idle()\n",
    "    \n",
    "    return\n",
    "\n",
    "fig = plt.figure()\n",
    "spec = fig.add_gridspec(2,3)\n",
    "#fig, ax = plt.subplots(2,1)\n",
    "ax0 = fig.add_subplot(spec[0,0])\n",
    "ax0.imshow(clean_Ge,cmap=cmap)\n",
    "ax0.set_title('Ge')\n",
    "\n",
    "ax1 = fig.add_subplot(spec[0,1])\n",
    "ax1.imshow(sum_W,cmap=cmap)\n",
    "ax1.set_title('W')\n",
    "\n",
    "ax2 = fig.add_subplot(spec[0,2])\n",
    "ax2.imshow(sum_Cu,cmap=cmap)\n",
    "ax2.set_title('Cu')\n",
    "\n",
    "ax3 = fig.add_subplot(spec[1,0])\n",
    "ax3.imshow(rsm.tot,cmap=cmap)\n",
    "ax3.set_title('tot')\n",
    "\n",
    "ax4 = fig.add_subplot(spec[1,1:3])\n",
    "ax4.imshow(np.log10(rsm.qxz_data[0,0,:,:].T+eps),cmap=cmap)\n",
    "ax4.set_title('RSM')\n",
    "plt.tight_layout()\n",
    "\n",
    "# Call click func\n",
    "cid = fig.canvas.mpl_connect('button_press_event', onclick)\n",
    "\n",
    "#plt.show()"
   ]
  },
  {
   "cell_type": "code",
   "execution_count": null,
   "id": "turkish-iraqi",
   "metadata": {},
   "outputs": [],
   "source": [
    "# create movie\n",
    "import matplotlib\n",
    "import matplotlib.animation as manimation \n",
    "matplotlib.use('AGG') \n",
    "def update_fig(row,col):\n",
    "\n",
    "    #col = col + i\n",
    "    ax0.clear()\n",
    "    ax0.imshow(sum_Ge,cmap=cmap)\n",
    "    ax0.plot(col,row,marker='o',markersize=2, color=color)\n",
    "    ax0.set_title('Ge')\n",
    "    ax1.clear()\n",
    "    ax1.imshow(sum_W,cmap=cmap)\n",
    "    ax1.plot(col,row,marker='o',markersize=2, color=color)\n",
    "    ax1.set_title('W')\n",
    "    ax2.clear()\n",
    "    ax2.imshow(sum_Cu,cmap=cmap)\n",
    "    ax2.plot(col,row,marker='o',markersize=2, color=color)\n",
    "    ax2.set_title('Cu')\n",
    "    ax3.clear()\n",
    "    ax3.imshow(rsm.tot,cmap=cmap)\n",
    "    ax3.plot(col,row,marker='o',markersize=2, color=color)\n",
    "    ax3.set_title('tot')\n",
    "    ax4.clear()\n",
    "    ax4.imshow(np.log10(rsm.qxz_data[row,col,:,:].T+eps),cmap=cmap)\n",
    "    ax4.set_title('RSM')\n",
    "    fig.canvas.draw_idle()\n",
    "    return  \n",
    "     \n",
    "def init():\n",
    "    fig = plt.figure()\n",
    "    spec = fig.add_gridspec(2,3)\n",
    "    \n",
    "    ax0 = fig.add_subplot(spec[0,0])\n",
    "    ax0.imshow(clean_Ge,cmap=cmap)\n",
    "    ax0.set_title('Ge')\n",
    "\n",
    "    ax1 = fig.add_subplot(spec[0,1])\n",
    "    ax1.imshow(sum_W,cmap=cmap)\n",
    "    ax1.set_title('W')\n",
    "\n",
    "    ax2 = fig.add_subplot(spec[0,2])\n",
    "    ax2.imshow(sum_Cu,cmap=cmap)\n",
    "    ax2.set_title('Cu')\n",
    "\n",
    "    ax3 = fig.add_subplot(spec[1,0])\n",
    "    ax3.imshow(rsm.tot,cmap=cmap)\n",
    "    ax3.set_title('tot')\n",
    "\n",
    "    ax4 = fig.add_subplot(spec[1,1:3])\n",
    "    ax4.imshow(np.log10(rsm.qxz_data[0,0,:,:].T+eps),cmap=cmap)\n",
    "    ax4.set_title('RSM')\n",
    "    plt.tight_layout()\n",
    "    return  \n",
    "\n",
    "FFMpegWriter = manimation.writers['ffmpeg']\n",
    "metadata = dict(title='Movie', artist='hyan',\n",
    "                comment='RSM variation across GAAFET')\n",
    "writer = FFMpegWriter(fps=5, metadata=metadata)\n",
    "\n",
    "init()\n",
    "\n",
    "with writer.saving(fig, 'myfile.mp4', dpi=100):\n",
    "    writer.grab_frame()\n",
    "    row = 21\n",
    "    col = 5\n",
    "    for j in range(44):\n",
    "        update_fig(row,col+j)\n",
    "        writer.grab_frame()\n",
    "    row = 2\n",
    "    col = 28\n",
    "    for j in range(40):\n",
    "        update_fig(row+j,col)\n",
    "        writer.grab_frame()\n",
    "    #writer.finish()\n",
    " "
   ]
  }
 ],
 "metadata": {
  "kernelspec": {
   "display_name": "Python 3 (ipykernel)",
   "language": "python",
   "name": "python3"
  },
  "language_info": {
   "codemirror_mode": {
    "name": "ipython",
    "version": 3
   },
   "file_extension": ".py",
   "mimetype": "text/x-python",
   "name": "python",
   "nbconvert_exporter": "python",
   "pygments_lexer": "ipython3",
   "version": "3.12.7"
  }
 },
 "nbformat": 4,
 "nbformat_minor": 5
}
