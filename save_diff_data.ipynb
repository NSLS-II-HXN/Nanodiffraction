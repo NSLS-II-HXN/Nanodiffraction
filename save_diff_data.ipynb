{
 "cells": [
  {
   "cell_type": "markdown",
   "id": "f53e27b1",
   "metadata": {},
   "source": [
    "# Load diff package (shift+enter)\n"
   ]
  },
  {
   "cell_type": "code",
   "execution_count": 1,
   "id": "raising-affair",
   "metadata": {},
   "outputs": [
    {
     "name": "stderr",
     "output_type": "stream",
     "text": [
      "%5|1740587809.044|CONFWARN|rdkafka#producer-1| [thrd:app]: No `bootstrap.servers` configured: client will not be able to connect to Kafka cluster\n"
     ]
    }
   ],
   "source": [
    "from nanorsm_v2 import *\n"
   ]
  },
  {
   "cell_type": "markdown",
   "id": "3bf19b4a",
   "metadata": {},
   "source": [
    "# Enter logfiles and parameters here"
   ]
  },
  {
   "cell_type": "code",
   "execution_count": 4,
   "id": "57c696e4",
   "metadata": {},
   "outputs": [
    {
     "name": "stdout",
     "output_type": "stream",
     "text": [
      "['//data//users//current_user/tuesday_night_theta_scan_2_startID330894.csv', '//data//users//current_user/tuesday_night_theta_scan_1_startID330854.csv', '//data//users//current_user/tuesday_night_theta_scan_1_startID331048.csv', '//data//users//current_user/tuesday_night_theta_scan_4_startID331014.csv', '//data//users//current_user/tuesday_night_theta_scan_3_startID330972.csv', '//data//users//current_user/tuesday_night_theta_scan_2_startID331068.csv']\n"
     ]
    }
   ],
   "source": [
    "# load elemental image data, align it with pystackreg and generate a tranform matrix\n",
    "#put xrf data with a filena\n",
    "\n",
    "#logfiles = ['//data//users//current_user/Find_ideal_theta_scan_startID330770.csv']\n",
    "logfiles = glob.glob('//data//users//current_user/*tuesday*.csv')\n",
    "diff_detector = 'merlin1'\n",
    "norm_with = 'sclr1_ch4' #or None\n",
    "compression = None #or gzip\n",
    "print(logfiles)"
   ]
  },
  {
   "cell_type": "markdown",
   "id": "497e4959",
   "metadata": {},
   "source": [
    "# Start Batch Export"
   ]
  },
  {
   "cell_type": "code",
   "execution_count": null,
   "id": "71be2875",
   "metadata": {},
   "outputs": [
    {
     "name": "stdout",
     "output_type": "stream",
     "text": [
      "[330894 330896 330898 330900 330902 330904 330906 330908 330910 330912\n",
      " 330914 330916 330918 330920 330922 330924 330926 330928 330930 330932\n",
      " 330934 330936 330938 330940 330942 330944 330946 330948 330950 330952\n",
      " 330954 330956 330958 330960 330962 330964 330966 330968 330970]\n",
      "h5 files will be saved to //data/users/current_user/tuesday_night_theta_scan_2_startID330894_diff_data\n"
     ]
    },
    {
     "data": {
      "application/vnd.jupyter.widget-view+json": {
       "model_id": "4d279d27ac144883b938c1a553317e09",
       "version_major": 2,
       "version_minor": 0
      },
      "text/plain": [
       "Progress:   0%|          | 0/39 [00:00<?, ?it/s]"
      ]
     },
     "metadata": {},
     "output_type": "display_data"
    },
    {
     "name": "stdout",
     "output_type": "stream",
     "text": [
      "sid = 330894\n",
      "data normalized with sclr1_ch4 \n",
      "data size = 2.33 GB\n",
      "saved_as ='//data/users/current_user/tuesday_night_theta_scan_2_startID330894_diff_data/scan_330894_merlin1'\n",
      "sid = 330896\n",
      "data normalized with sclr1_ch4 \n",
      "data size = 2.33 GB\n",
      "saved_as ='//data/users/current_user/tuesday_night_theta_scan_2_startID330894_diff_data/scan_330896_merlin1'\n",
      "sid = 330898\n",
      "data normalized with sclr1_ch4 \n",
      "data size = 2.33 GB\n",
      "saved_as ='//data/users/current_user/tuesday_night_theta_scan_2_startID330894_diff_data/scan_330898_merlin1'\n",
      "sid = 330900\n",
      "data normalized with sclr1_ch4 \n",
      "data size = 2.33 GB\n",
      "saved_as ='//data/users/current_user/tuesday_night_theta_scan_2_startID330894_diff_data/scan_330900_merlin1'\n",
      "sid = 330902\n",
      "data normalized with sclr1_ch4 \n",
      "data size = 2.33 GB\n",
      "saved_as ='//data/users/current_user/tuesday_night_theta_scan_2_startID330894_diff_data/scan_330902_merlin1'\n",
      "sid = 330904\n",
      "data normalized with sclr1_ch4 \n",
      "data size = 2.33 GB\n",
      "saved_as ='//data/users/current_user/tuesday_night_theta_scan_2_startID330894_diff_data/scan_330904_merlin1'\n",
      "sid = 330906\n",
      "data normalized with sclr1_ch4 \n",
      "data size = 2.33 GB\n",
      "saved_as ='//data/users/current_user/tuesday_night_theta_scan_2_startID330894_diff_data/scan_330906_merlin1'\n",
      "sid = 330908\n",
      "data normalized with sclr1_ch4 \n",
      "data size = 2.33 GB\n",
      "saved_as ='//data/users/current_user/tuesday_night_theta_scan_2_startID330894_diff_data/scan_330908_merlin1'\n",
      "sid = 330910\n",
      "data normalized with sclr1_ch4 \n",
      "data size = 2.33 GB\n",
      "saved_as ='//data/users/current_user/tuesday_night_theta_scan_2_startID330894_diff_data/scan_330910_merlin1'\n",
      "sid = 330912\n",
      "data normalized with sclr1_ch4 \n",
      "data size = 2.33 GB\n",
      "saved_as ='//data/users/current_user/tuesday_night_theta_scan_2_startID330894_diff_data/scan_330912_merlin1'\n",
      "sid = 330914\n",
      "data normalized with sclr1_ch4 \n",
      "data size = 2.33 GB\n",
      "saved_as ='//data/users/current_user/tuesday_night_theta_scan_2_startID330894_diff_data/scan_330914_merlin1'\n",
      "sid = 330916\n",
      "data normalized with sclr1_ch4 \n",
      "data size = 2.33 GB\n",
      "saved_as ='//data/users/current_user/tuesday_night_theta_scan_2_startID330894_diff_data/scan_330916_merlin1'\n",
      "sid = 330918\n",
      "data normalized with sclr1_ch4 \n",
      "data size = 2.33 GB\n",
      "saved_as ='//data/users/current_user/tuesday_night_theta_scan_2_startID330894_diff_data/scan_330918_merlin1'\n",
      "sid = 330920\n",
      "data normalized with sclr1_ch4 \n",
      "data size = 2.33 GB\n",
      "saved_as ='//data/users/current_user/tuesday_night_theta_scan_2_startID330894_diff_data/scan_330920_merlin1'\n",
      "sid = 330922\n",
      "data normalized with sclr1_ch4 \n",
      "data size = 2.33 GB\n",
      "saved_as ='//data/users/current_user/tuesday_night_theta_scan_2_startID330894_diff_data/scan_330922_merlin1'\n",
      "sid = 330924\n",
      "data normalized with sclr1_ch4 \n",
      "data size = 2.33 GB\n",
      "saved_as ='//data/users/current_user/tuesday_night_theta_scan_2_startID330894_diff_data/scan_330924_merlin1'\n",
      "sid = 330926\n",
      "data normalized with sclr1_ch4 \n",
      "data size = 2.33 GB\n",
      "saved_as ='//data/users/current_user/tuesday_night_theta_scan_2_startID330894_diff_data/scan_330926_merlin1'\n",
      "sid = 330928\n",
      "data normalized with sclr1_ch4 \n",
      "data size = 2.33 GB\n",
      "saved_as ='//data/users/current_user/tuesday_night_theta_scan_2_startID330894_diff_data/scan_330928_merlin1'\n",
      "sid = 330930\n",
      "data normalized with sclr1_ch4 \n",
      "data size = 2.33 GB\n",
      "saved_as ='//data/users/current_user/tuesday_night_theta_scan_2_startID330894_diff_data/scan_330930_merlin1'\n",
      "sid = 330932\n",
      "data normalized with sclr1_ch4 \n",
      "data size = 2.33 GB\n",
      "saved_as ='//data/users/current_user/tuesday_night_theta_scan_2_startID330894_diff_data/scan_330932_merlin1'\n",
      "sid = 330934\n",
      "data normalized with sclr1_ch4 \n",
      "data size = 2.33 GB\n",
      "saved_as ='//data/users/current_user/tuesday_night_theta_scan_2_startID330894_diff_data/scan_330934_merlin1'\n",
      "sid = 330936\n",
      "data normalized with sclr1_ch4 \n",
      "data size = 2.33 GB\n",
      "saved_as ='//data/users/current_user/tuesday_night_theta_scan_2_startID330894_diff_data/scan_330936_merlin1'\n",
      "sid = 330938\n",
      "data normalized with sclr1_ch4 \n",
      "data size = 2.33 GB\n",
      "saved_as ='//data/users/current_user/tuesday_night_theta_scan_2_startID330894_diff_data/scan_330938_merlin1'\n",
      "sid = 330940\n",
      "data normalized with sclr1_ch4 \n",
      "data size = 2.33 GB\n",
      "saved_as ='//data/users/current_user/tuesday_night_theta_scan_2_startID330894_diff_data/scan_330940_merlin1'\n",
      "sid = 330942\n",
      "data normalized with sclr1_ch4 \n",
      "data size = 2.33 GB\n",
      "saved_as ='//data/users/current_user/tuesday_night_theta_scan_2_startID330894_diff_data/scan_330942_merlin1'\n",
      "sid = 330944\n",
      "data normalized with sclr1_ch4 \n",
      "data size = 2.33 GB\n",
      "saved_as ='//data/users/current_user/tuesday_night_theta_scan_2_startID330894_diff_data/scan_330944_merlin1'\n",
      "sid = 330946\n",
      "data normalized with sclr1_ch4 \n",
      "data size = 2.33 GB\n",
      "saved_as ='//data/users/current_user/tuesday_night_theta_scan_2_startID330894_diff_data/scan_330946_merlin1'\n",
      "sid = 330948\n",
      "data normalized with sclr1_ch4 \n",
      "data size = 2.33 GB\n",
      "saved_as ='//data/users/current_user/tuesday_night_theta_scan_2_startID330894_diff_data/scan_330948_merlin1'\n",
      "sid = 330950\n",
      "data normalized with sclr1_ch4 \n",
      "data size = 2.33 GB\n",
      "saved_as ='//data/users/current_user/tuesday_night_theta_scan_2_startID330894_diff_data/scan_330950_merlin1'\n",
      "sid = 330952\n",
      "data normalized with sclr1_ch4 \n",
      "data size = 2.33 GB\n",
      "saved_as ='//data/users/current_user/tuesday_night_theta_scan_2_startID330894_diff_data/scan_330952_merlin1'\n",
      "sid = 330954\n",
      "data normalized with sclr1_ch4 \n",
      "data size = 2.33 GB\n"
     ]
    }
   ],
   "source": [
    "for logfile in logfiles:\n",
    "\n",
    "    export_diff_h5_log_file(logfile, \n",
    "                            diff_detector = diff_detector, \n",
    "                            norm_with = norm_with,\n",
    "                            compression = compression)"
   ]
  },
  {
   "cell_type": "code",
   "execution_count": null,
   "id": "a9ecdd24",
   "metadata": {},
   "outputs": [],
   "source": []
  }
 ],
 "metadata": {
  "kernelspec": {
   "display_name": "Python 3 (ipykernel)",
   "language": "python",
   "name": "python3"
  },
  "language_info": {
   "codemirror_mode": {
    "name": "ipython",
    "version": 3
   },
   "file_extension": ".py",
   "mimetype": "text/x-python",
   "name": "python",
   "nbconvert_exporter": "python",
   "pygments_lexer": "ipython3",
   "version": "3.10.8"
  }
 },
 "nbformat": 4,
 "nbformat_minor": 5
}
