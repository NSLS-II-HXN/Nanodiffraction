{
 "cells": [
  {
   "cell_type": "code",
   "execution_count": 1,
   "id": "chronic-dinner",
   "metadata": {},
   "outputs": [
    {
     "name": "stdout",
     "output_type": "stream",
     "text": [
      "Using matplotlib backend: Qt5Agg\n"
     ]
    }
   ],
   "source": [
    "%matplotlib\n",
    "from nanorsm import *\n",
    "from skimage.transform import rescale"
   ]
  },
  {
   "cell_type": "code",
   "execution_count": 2,
   "id": "personalized-drain",
   "metadata": {},
   "outputs": [],
   "source": [
    "def im_stack_rescale(im_stack,x_scale):\n",
    "    \n",
    "    for i in range(len(x_scale)):\n",
    "        tmp = rescale(im_stack[i,:,:],(1,x_scale[i]))\n",
    "        im_row, im_col = tmp.shape\n",
    "        if i == 0:\n",
    "        \n",
    "            im_stack_scaled = np.reshape(tmp,(1,im_row,im_col))\n",
    "        else:\n",
    "            im_stack_num, im_stack_row,im_stack_col = np.shape(im_stack_scaled)\n",
    "            row = np.maximum(im_row,im_stack_row)\n",
    "            col = np.maximum(im_col,im_stack_col)\n",
    "            if im_row < im_stack_row:\n",
    "                r_s = int (np.round((im_stack_row-im_row)/2))\n",
    "            else:\n",
    "                r_s = 0\n",
    "            if im_col < im_stack_col:\n",
    "                c_s = int (np.round((im_stack_col-im_col)/2))\n",
    "            else:\n",
    "                c_s = 0\n",
    "            im_stack_tmp = np.zeros((im_stack_num+1,row,col))\n",
    "            im_stack_tmp[0:im_stack_num,0:im_stack_row,0:im_stack_col] = im_stack_scaled\n",
    "            \n",
    "            im_stack_tmp[im_stack_num,r_s:im_row+r_s,c_s:im_col+c_s] = tmp\n",
    "            im_stack_scaled = im_stack_tmp\n",
    "        \n",
    "    return im_stack_scaled"
   ]
  },
  {
   "cell_type": "code",
   "execution_count": 35,
   "id": "executed-pricing",
   "metadata": {
    "scrolled": true
   },
   "outputs": [
    {
     "data": {
      "application/vnd.jupyter.widget-view+json": {
       "model_id": "2842dc94829d4aabaad75caec961bad8",
       "version_major": 2,
       "version_minor": 0
      },
      "text/plain": [
       "Progress:   0%|          | 0/56 [00:00<?, ?it/s]"
      ]
     },
     "metadata": {},
     "output_type": "display_data"
    },
    {
     "name": "stderr",
     "output_type": "stream",
     "text": [
      "/opt/conda_envs/nsls2-analysis-2021-1.2/lib/python3.7/site-packages/pystackreg/pystackreg.py:383: UserWarning: Detected axis 1 as the possible time axis for the stack due to its low variability, but axis 0 was supplied for registration. Are you sure you supplied the correct axis?\n",
      "  lowest_var_axis, axis\n"
     ]
    }
   ],
   "source": [
    "#data_path = '//data//users//2023Q2//Yan_2023Q2//Fluor//spec-tomo-sample2//'\n",
    "data_path = '//data//users//2020Q3//ChenWiegart_2020Q3//DataAnalysis//01_Ti_fluo_Ink4_bottom_center//fitting_with_01json_noFe//'\n",
    "#sid_list = np.concatenate((np.sort(get_sid_list(['219698-219728'],3))[::-1],get_sid_list(['219620-219692'],3)))\n",
    "#sid_list = get_sid_list(['222505-223042'],3)\n",
    "sid_list = get_sid_list(['120248-120358'],2)\n",
    "\n",
    "angle = np.zeros(sid_list.shape)\n",
    "\n",
    "i = 0\n",
    "for sid in sid_list:\n",
    "    h = db[int(sid)]\n",
    "    bl = h.table('baseline')\n",
    "    angle[i] = bl['zpsth'].loc[1]\n",
    "    i = i + 1\n",
    "\n",
    "#angle = np.linspace(-90,90,181)\n",
    "true_angle = angle - 2.18\n",
    "true_size = np.ones(angle.shape)\n",
    "ind = np.where(np.abs(angle)<45)\n",
    "true_size[ind] = np.cos(true_angle[ind]*np.pi/180)/np.cos(angle[ind]*np.pi/180)*0.9542\n",
    "ind2 = np.where(np.abs(angle)>=45)\n",
    "true_size[ind2] = np.abs(np.sin(true_angle[ind2]*np.pi/180)/np.sin(angle[ind2]*np.pi/180))*1.0309\n",
    "\n",
    "\n",
    "elem = 'Ti_K'\n",
    "num = np.size(sid_list)\n",
    "file_list = []\n",
    "for sid in sid_list:\n",
    "    tmp = ''.join([data_path, 'output_tiff_scan2D_','{}'.format(sid), '//detsum_',elem,'_norm.tiff'])\n",
    "    file_list.append(tmp)\n",
    "im_stack = load_ims(file_list)\n",
    "im_stack = np.swapaxes(im_stack,1,2)\n",
    "\n",
    "\n",
    "im_stack_rescaled = im_stack_rescale(im_stack,true_size)\n",
    "\n",
    "'''\n",
    "for i in range(len(true_size)):\n",
    "    tmp = rescale(im_stack[i,:,:],(1,true_size[i]))\n",
    "    im_row, im_col = tmp.shape\n",
    "    if i == 0:\n",
    "        \n",
    "        im_stack_scaled = np.reshape(tmp,(1,im_row,im_col))\n",
    "    else:\n",
    "        im_stack_num, im_stack_row,im_stack_col = np.shape(im_stack_scaled)\n",
    "        row = np.maximum(im_row,im_stack_row)\n",
    "        col = np.maximum(im_col,im_stack_col)\n",
    "        if im_row < im_stack_row:\n",
    "            r_s = int (np.round((im_stack_row-im_row)/2))\n",
    "        else:\n",
    "            r_s = 0\n",
    "        if im_col < im_stack_col:\n",
    "            c_s = int (np.round((im_stack_col-im_col)/2))\n",
    "        else:\n",
    "            c_s = 0\n",
    "        im_stack_tmp = np.zeros((im_stack_num+1,row,col))\n",
    "        im_stack_tmp[0:im_stack_num,0:im_stack_row,0:im_stack_col] = im_stack_scaled\n",
    "            \n",
    "        im_stack_tmp[im_stack_num,r_s:im_row+r_s,c_s:im_col+c_s] = tmp\n",
    "        im_stack_scaled = im_stack_tmp\n",
    "\n",
    "'''        \n",
    "num_frame,im_row,im_col = np.shape(im_stack)\n",
    "\n",
    "im_stack_aligned, trans_matrix = align_im_stack(im_stack_rescaled) # use pystackreg\n",
    "#im_stack = np.delete(im_stack,0,axis=0)\n",
    "#trans_matrix = np.delete(trans_matrix,0,axis=0)\n",
    "\n",
    "#im_stack_test = interp_sub_pix(im_stack,trans_matrix) # verify the alignment is done correctly\n",
    "\n",
    "tifffile.imwrite(''.join([data_path, 'stack_rescaled_aligned_', elem, '.tif']),\n",
    "                 im_stack_aligned.astype(np.float32),imagej=True)"
   ]
  },
  {
   "cell_type": "code",
   "execution_count": 34,
   "id": "exceptional-sheet",
   "metadata": {},
   "outputs": [
    {
     "data": {
      "text/plain": [
       "array([-70., -69., -68., -67., -66., -65., -64., -63., -62., -61., -60.,\n",
       "       -59., -58., -57., -56., -55., -54., -53., -52., -51., -50., -49.,\n",
       "       -48., -47., -46., -45., -44., -43., -42., -41., -40., -39., -38.,\n",
       "       -37., -36., -35., -34., -33., -32., -31., -30., -29., -28., -27.,\n",
       "       -26., -25., -24., -23., -22., -21., -20., -19., -18., -17., -16.,\n",
       "       -15.])"
      ]
     },
     "execution_count": 34,
     "metadata": {},
     "output_type": "execute_result"
    }
   ],
   "source": [
    "angle"
   ]
  },
  {
   "cell_type": "code",
   "execution_count": 20,
   "id": "affiliated-winter",
   "metadata": {},
   "outputs": [
    {
     "data": {
      "text/plain": [
       "(181, 100, 109)"
      ]
     },
     "execution_count": 20,
     "metadata": {},
     "output_type": "execute_result"
    }
   ],
   "source": [
    "im_stack_scaled.shape"
   ]
  },
  {
   "cell_type": "code",
   "execution_count": 14,
   "id": "coupled-spelling",
   "metadata": {},
   "outputs": [
    {
     "data": {
      "text/plain": [
       "<matplotlib.image.AxesImage at 0x7f8c5ec6a250>"
      ]
     },
     "execution_count": 14,
     "metadata": {},
     "output_type": "execute_result"
    }
   ],
   "source": [
    "plt.figure()\n",
    "plt.imshow(rescale(im_stack_aligned[0,:,:],(1,1.5)))"
   ]
  },
  {
   "cell_type": "code",
   "execution_count": 61,
   "id": "russian-thanksgiving",
   "metadata": {},
   "outputs": [
    {
     "data": {
      "application/vnd.jupyter.widget-view+json": {
       "model_id": "745a04272857484b9618d76178485379",
       "version_major": 2,
       "version_minor": 0
      },
      "text/plain": [
       "Progress:   0%|          | 0/180 [00:00<?, ?it/s]"
      ]
     },
     "metadata": {},
     "output_type": "display_data"
    },
    {
     "data": {
      "application/vnd.jupyter.widget-view+json": {
       "model_id": "c406758b2dbc42db918ac744cfaf49a8",
       "version_major": 2,
       "version_minor": 0
      },
      "text/plain": [
       "Progress:   0%|          | 0/180 [00:00<?, ?it/s]"
      ]
     },
     "metadata": {},
     "output_type": "display_data"
    },
    {
     "data": {
      "application/vnd.jupyter.widget-view+json": {
       "model_id": "46158391191e438d9e9a68b9a8b1a127",
       "version_major": 2,
       "version_minor": 0
      },
      "text/plain": [
       "Progress:   0%|          | 0/180 [00:00<?, ?it/s]"
      ]
     },
     "metadata": {},
     "output_type": "display_data"
    },
    {
     "data": {
      "application/vnd.jupyter.widget-view+json": {
       "model_id": "824a367b74a649aa9a3a522f5a4e4f9a",
       "version_major": 2,
       "version_minor": 0
      },
      "text/plain": [
       "Progress:   0%|          | 0/180 [00:00<?, ?it/s]"
      ]
     },
     "metadata": {},
     "output_type": "display_data"
    },
    {
     "data": {
      "application/vnd.jupyter.widget-view+json": {
       "model_id": "db58d40cff4d4372be10b30e1f3ab44a",
       "version_major": 2,
       "version_minor": 0
      },
      "text/plain": [
       "Progress:   0%|          | 0/180 [00:00<?, ?it/s]"
      ]
     },
     "metadata": {},
     "output_type": "display_data"
    },
    {
     "data": {
      "application/vnd.jupyter.widget-view+json": {
       "model_id": "f1401bc74abf4de8b44def02be7b0bdc",
       "version_major": 2,
       "version_minor": 0
      },
      "text/plain": [
       "Progress:   0%|          | 0/180 [00:00<?, ?it/s]"
      ]
     },
     "metadata": {},
     "output_type": "display_data"
    }
   ],
   "source": [
    "# if there are more elements to be aligned and stacked\n",
    "elem_list = ['Mn_K','Fe_K','Mo_L']\n",
    "#sid_list = get_sid_list(['219792-219888'],3)\n",
    "\n",
    "sum_int = np.sum(np.sum(im_stack_test[:,10:-10,10:-10],-1),-1)\n",
    "norm_factor = np.reshape(sum_int[0]/sum_int,(-1,1,1))\n",
    "\n",
    "num = np.size(sid_list)\n",
    "i = 1\n",
    "for elem in elem_list:\n",
    "    file_list = []\n",
    "    for sid in sid_list:\n",
    "        tmp = ''.join([data_path, 'output_tiff_scan2D_','{}'.format(sid), '//detsum_',elem,'_norm.tiff'])\n",
    "        \n",
    "        file_list.append(tmp)\n",
    "    im_stack = load_ims(file_list)\n",
    "    #im_stack_scaled = im_stack_rescale(im_stack,true_size)\n",
    "    \n",
    "    im_stack_test = interp_sub_pix(im_stack,trans_matrix)\n",
    "    sz = im_stack_test.shape\n",
    "    #im_stack_test = im_stack_test/np.tile(norm_factor,[1,sz[1],sz[2]])\n",
    "    imp = np.sum(im_stack_test,0)\n",
    "    imp.shape\n",
    "    if i == 1:\n",
    "        stack = imp\n",
    "        sz = np.shape(imp)\n",
    "        stack = np.reshape(stack, (1,sz[0],sz[1]))\n",
    "    else:\n",
    "        stack = np.concatenate((stack,imp[np.newaxis,:,:]),0)\n",
    "    i = i+1\n",
    "    tifffile.imwrite(''.join([data_path, 'stack_aligned_', elem, '_plan_52.tif']),im_stack_test[:,10:-10,0:-10].astype(np.float32),imagej=True)"
   ]
  },
  {
   "cell_type": "code",
   "execution_count": 44,
   "id": "opponent-energy",
   "metadata": {},
   "outputs": [
    {
     "data": {
      "text/plain": [
       "<matplotlib.image.AxesImage at 0x7f8c5e1fd5d0>"
      ]
     },
     "execution_count": 44,
     "metadata": {},
     "output_type": "execute_result"
    }
   ],
   "source": [
    "plt.figure()\n",
    "plt.imshow(im_stack_aligned[:,50,:])"
   ]
  },
  {
   "cell_type": "code",
   "execution_count": null,
   "id": "north-project",
   "metadata": {},
   "outputs": [],
   "source": []
  }
 ],
 "metadata": {
  "kernelspec": {
   "display_name": "Python 3",
   "language": "python",
   "name": "python3"
  },
  "language_info": {
   "codemirror_mode": {
    "name": "ipython",
    "version": 3
   },
   "file_extension": ".py",
   "mimetype": "text/x-python",
   "name": "python",
   "nbconvert_exporter": "python",
   "pygments_lexer": "ipython3",
   "version": "3.7.7"
  }
 },
 "nbformat": 4,
 "nbformat_minor": 5
}
