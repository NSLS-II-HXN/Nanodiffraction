{
 "cells": [
  {
   "cell_type": "code",
   "execution_count": 1,
   "id": "tested-money",
   "metadata": {},
   "outputs": [
    {
     "name": "stdout",
     "output_type": "stream",
     "text": [
      "Using matplotlib backend: Qt5Agg\n"
     ]
    },
    {
     "data": {
      "application/vnd.jupyter.widget-view+json": {
       "model_id": "f00ed1c68a094a7989463c1b101658b9",
       "version_major": 2,
       "version_minor": 0
      },
      "text/plain": [
       "Progress:   0%|          | 0/1 [00:00<?, ?it/s]"
      ]
     },
     "metadata": {},
     "output_type": "display_data"
    },
    {
     "data": {
      "application/vnd.jupyter.widget-view+json": {
       "model_id": "476ab812ae8d4b278e07b0f6faa1fb55",
       "version_major": 2,
       "version_minor": 0
      },
      "text/plain": [
       "Progress:   0%|          | 0/1 [00:00<?, ?it/s]"
      ]
     },
     "metadata": {},
     "output_type": "display_data"
    },
    {
     "data": {
      "application/vnd.jupyter.widget-view+json": {
       "model_id": "32e18c8ced914fb3acdeb2464eee15a3",
       "version_major": 2,
       "version_minor": 0
      },
      "text/plain": [
       "Progress:   0%|          | 0/1 [00:00<?, ?it/s]"
      ]
     },
     "metadata": {},
     "output_type": "display_data"
    },
    {
     "data": {
      "application/vnd.jupyter.widget-view+json": {
       "model_id": "9ed2f2d52c74402fb48df6cc943d5fb2",
       "version_major": 2,
       "version_minor": 0
      },
      "text/plain": [
       "Progress:   0%|          | 0/1 [00:00<?, ?it/s]"
      ]
     },
     "metadata": {},
     "output_type": "display_data"
    },
    {
     "name": "stdout",
     "output_type": "stream",
     "text": [
      "Total scan points: 2800; raw image row: 502; raw image col: 495\n",
      "Total scan points: 2800; data image row: 200; data image col: 200\n",
      "Assume it is a rocking curve scan; number of angles = 2800\n"
     ]
    }
   ],
   "source": [
    "%matplotlib\n",
    "from nanorsm import *\n",
    "\n",
    "data_path = '//data//users//2023Q2//Murray_2023Q2//GAAFET_35_percent_10nm//'\n",
    "sid_list = get_sid_list(['219710'],3)\n",
    "\n",
    "elem_list = ['Ge_K','W_L','Ti_K']\n",
    "num = np.size(sid_list)\n",
    "i = 1\n",
    "for elem in elem_list:\n",
    "    file_list = []\n",
    "    for sid in sid_list:\n",
    "        tmp = ''.join([data_path, 'output_tiff_scan2D_','{}'.format(sid), '//detsum_',elem,'_norm.tiff'])\n",
    "        \n",
    "        file_list.append(tmp)\n",
    "    im_stack = load_ims(file_list)\n",
    "    \n",
    "    #im_stack_test = interp_sub_pix(im_stack,trans_matrix)\n",
    "    imp = np.sum(im_stack,0)\n",
    "    imp.shape\n",
    "    if i == 1:\n",
    "        stack = imp\n",
    "        sz = np.shape(imp)\n",
    "        stack = np.reshape(stack, (1,sz[0],sz[1]))\n",
    "    else:\n",
    "        stack = np.concatenate((stack,imp[np.newaxis,:,:]),0)\n",
    "    i = i+1\n",
    "   \n",
    "roi = [160,5,200,200]\n",
    "mask = np.asarray(tifffile.imread('//data//users//2023Q2//Murray_2023Q2//nanodiffraction//mask.tif'))\n",
    "\n",
    "diff_data = load_h5_data_db(sid_list,det='merlin2', roi=roi,mon='sclr1_ch4', mask = mask)\n",
    "sz = diff_data.shape\n",
    "diff_data = np.reshape(diff_data,[70,40,sz[2],sz[3]])\n",
    "#diff_data[diff_data>10] = 0\n",
    "sum_all = np.sum(np.sum(diff_data,-1),-1)\n",
    "stack = np.concatenate((stack,sum_all[np.newaxis,:,:]))\n",
    "elem_list.append('tot')\n",
    "interactive_map(elem_list,stack,'diff',np.log10(diff_data+1e-6), marker_color = 'white')\n"
   ]
  },
  {
   "cell_type": "code",
   "execution_count": 2,
   "id": "computational-processing",
   "metadata": {},
   "outputs": [
    {
     "data": {
      "application/vnd.jupyter.widget-view+json": {
       "model_id": "ed8c6c214a0a433aa317a8a147648ada",
       "version_major": 2,
       "version_minor": 0
      },
      "text/plain": [
       "Progress:   0%|          | 0/1 [00:00<?, ?it/s]"
      ]
     },
     "metadata": {},
     "output_type": "display_data"
    },
    {
     "name": "stdout",
     "output_type": "stream",
     "text": [
      "Total scan points: 10; raw image row: 502; raw image col: 495\n",
      "Total scan points: 10; data image row: 502; data image col: 495\n",
      "Assume it is a rocking curve scan; number of angles = 10\n"
     ]
    }
   ],
   "source": [
    "file_name = ['//data//users//2023Q2//Murray_2023Q2//nanodiffraction//background_000001.h5']\n",
    "data = load_h5_data(file_name,roi=None,mask=None)"
   ]
  },
  {
   "cell_type": "code",
   "execution_count": 17,
   "id": "desirable-radiation",
   "metadata": {},
   "outputs": [
    {
     "data": {
      "text/plain": [
       "<matplotlib.image.AxesImage at 0x7f0dac1bac10>"
      ]
     },
     "execution_count": 17,
     "metadata": {},
     "output_type": "execute_result"
    }
   ],
   "source": [
    "tmp = np.squeeze(np.sum(data,0))\n",
    "plt.figure()\n",
    "plt.imshow(tmp*mask)"
   ]
  },
  {
   "cell_type": "code",
   "execution_count": 22,
   "id": "furnished-vegetarian",
   "metadata": {},
   "outputs": [],
   "source": [
    "mask = np.ones(tmp.shape)\n",
    "mask[tmp>10] = 0\n",
    "mask[116,173] = 0\n",
    "mask[221,112] = 0\n",
    "mask[:,324] = 0\n",
    "mask[145,247] = 0\n",
    "mask[343,151] = 0\n",
    "mask[445,312] = 0\n",
    "mask[446,296] = 0\n",
    "tifffile.imwrite('mask.tif',np.asarray(mask,dtype='float32'))"
   ]
  },
  {
   "cell_type": "code",
   "execution_count": 5,
   "id": "available-telephone",
   "metadata": {},
   "outputs": [
    {
     "data": {
      "text/plain": [
       "<matplotlib.image.AxesImage at 0x7f0dbc14d750>"
      ]
     },
     "execution_count": 5,
     "metadata": {},
     "output_type": "execute_result"
    }
   ],
   "source": [
    "plt.figure()\n",
    "plt.imshow(diff_data[10,0,:,:]*mask,clim=[0,1])"
   ]
  },
  {
   "cell_type": "code",
   "execution_count": null,
   "id": "champion-discovery",
   "metadata": {},
   "outputs": [],
   "source": []
  }
 ],
 "metadata": {
  "kernelspec": {
   "display_name": "Python 3",
   "language": "python",
   "name": "python3"
  },
  "language_info": {
   "codemirror_mode": {
    "name": "ipython",
    "version": 3
   },
   "file_extension": ".py",
   "mimetype": "text/x-python",
   "name": "python",
   "nbconvert_exporter": "python",
   "pygments_lexer": "ipython3",
   "version": "3.7.7"
  }
 },
 "nbformat": 4,
 "nbformat_minor": 5
}
