{
 "cells": [
  {
   "cell_type": "code",
   "execution_count": 1,
   "id": "consolidated-conviction",
   "metadata": {},
   "outputs": [
    {
     "name": "stdout",
     "output_type": "stream",
     "text": [
      "Using matplotlib backend: Qt5Agg\n"
     ]
    }
   ],
   "source": [
    "%matplotlib\n",
    "from nanorsm import *"
   ]
  },
  {
   "cell_type": "code",
   "execution_count": 23,
   "id": "answering-colon",
   "metadata": {},
   "outputs": [],
   "source": [
    "data_path = '//nsls2//data1//hxn//legacy//users//2023Q2//Murray_2023Q2//Blanket_film_overnight//'\n",
    " \n",
    "save_file = ''.join([data_path,'rsm_35_blanket_film.obj'])\n",
    "rsm = pickle.load(open(save_file,'rb'))"
   ]
  },
  {
   "cell_type": "code",
   "execution_count": 14,
   "id": "intensive-lincoln",
   "metadata": {
    "scrolled": true
   },
   "outputs": [],
   "source": [
    "data_path = '//nsls2//data1//hxn//legacy//users//2023Q2//Murray_2023Q2//GAAFET_35_percent_10nm//processed_rsm_100x100_nm//'\n",
    "elem_list = ['Cu_K','Ge_K','Ti_K', 'W_L']\n",
    "i = 1\n",
    "for elem in elem_list:\n",
    "     \n",
    "    \n",
    "    file_name = ''.join([data_path,'stack_aligned_',elem,'_100x100_nm.tif'])\n",
    "        \n",
    "     \n",
    "    im_stack = tifffile.imread(file_name)\n",
    "    \n",
    "    \n",
    "    imp = np.sum(im_stack,0)\n",
    "    \n",
    "    if i == 1:\n",
    "        stack = imp\n",
    "        sz = np.shape(imp)\n",
    "        stack = np.reshape(stack, (1,sz[0],sz[1]))\n",
    "    else:\n",
    "        stack = np.concatenate((stack,imp[np.newaxis,:,:]),0)\n",
    "    i = i+1"
   ]
  },
  {
   "cell_type": "code",
   "execution_count": 15,
   "id": "lasting-collectible",
   "metadata": {},
   "outputs": [],
   "source": [
    "interactive_map(elem_list,stack,'rsm',np.log10(np.swapaxes(rsm.qxz_data,2,3)+1e-6),cmap='jet')"
   ]
  },
  {
   "cell_type": "code",
   "execution_count": 16,
   "id": "conditional-combat",
   "metadata": {},
   "outputs": [],
   "source": [
    " def save_npy(rsm,pararent_folder):\n",
    "    data_folder = ''.join([pararent_folder,'npy//'])\n",
    "    \n",
    "    create_folder(data_folder)\n",
    "    np.save(''.join([data_folder,'pos_qx_qz_data.npy']),rsm.qxz_data)\n",
    "    np.save(''.join([data_folder,'pos_qy_qz_data.npy']),rsm.qyz_data)\n",
    "    np.save(''.join([data_folder,'xq_data.npy']),rsm.xq)\n",
    "    np.save(''.join([data_folder,'yq_data.npy']),rsm.yq)\n",
    "    np.save(''.join([data_folder,'zq_data.npy']),rsm.zq)\n",
    "\n",
    "def create_folder(folder_path):\n",
    "    if not os.path.exists(folder_path):\n",
    "        os.makedirs(folder_path)\n",
    "        print(f\"Folder '{folder_path}' created.\")\n",
    "    else:\n",
    "        print(f\"Folder '{folder_path}' already exists.\")"
   ]
  },
  {
   "cell_type": "code",
   "execution_count": 24,
   "id": "heated-citizen",
   "metadata": {},
   "outputs": [
    {
     "name": "stdout",
     "output_type": "stream",
     "text": [
      "Folder '//nsls2//data1//hxn//legacy//users//2023Q2//Murray_2023Q2//Blanket_film_overnight//npy//' created.\n"
     ]
    }
   ],
   "source": [
    "save_npy(rsm,data_path)"
   ]
  },
  {
   "cell_type": "code",
   "execution_count": null,
   "id": "periodic-damages",
   "metadata": {},
   "outputs": [],
   "source": [
    "qxz = np.swapaxes(rsm.qxz_data,2,3)\n",
    "qyz = np.swapaxes(rsm.qyz_data,2,3)\n",
    "\n",
    "qxz[qxz > 0.001] = 0\n",
    "interactive_map(elem_list,stack,'rsm',np.log10(qxz+1e-7),cmap='jet')\n",
    "\n",
    "qyz[qyz > 0.001] = 0\n",
    "interactive_map(elem_list,stack,'rsm',np.log10(qyz+1e-7),cmap='jet')\n"
   ]
  },
  {
   "cell_type": "code",
   "execution_count": 21,
   "id": "individual-robin",
   "metadata": {},
   "outputs": [
    {
     "name": "stdout",
     "output_type": "stream",
     "text": [
      "Using matplotlib backend: Qt5Agg\n"
     ]
    }
   ],
   "source": [
    "%matplotlib\n",
    "ref_qxz = np.sum(np.swapaxes(rsm.qxz_data,2,3)[92,5:100,:,:],axis=0)/95\n",
    "qxz = np.swapaxes(rsm.qxz_data,2,3)- ref_qxz\n",
    "qxz[qxz<=0] = 1e-8\n",
    "interactive_map(elem_list,stack,'rsm',np.log10(qxz),cmap='jet')"
   ]
  },
  {
   "cell_type": "code",
   "execution_count": 31,
   "id": "increased-lightning",
   "metadata": {},
   "outputs": [
    {
     "data": {
      "text/plain": [
       "(0, 690, 261)"
      ]
     },
     "execution_count": 31,
     "metadata": {},
     "output_type": "execute_result"
    }
   ],
   "source": []
  },
  {
   "cell_type": "code",
   "execution_count": 28,
   "id": "ambient-essex",
   "metadata": {},
   "outputs": [],
   "source": [
    "ref_qyz = np.swapaxes(rsm.qyz_data,2,3)[15,5,:,:]\n",
    "qyz = np.swapaxes(rsm.qyz_data,2,3)- ref_qyz\n",
    "qyz[qyz<=0] = 1e-8\n",
    "interactive_map(elem_list,stack,'rsm',np.log10(qyz),cmap='jet')"
   ]
  },
  {
   "cell_type": "code",
   "execution_count": 24,
   "id": "southern-advantage",
   "metadata": {},
   "outputs": [
    {
     "data": {
      "application/vnd.jupyter.widget-view+json": {
       "model_id": "a4338d3488e048cc872aa427fed93d37",
       "version_major": 2,
       "version_minor": 0
      },
      "text/plain": [
       "  0%|          | 0/70 [00:00<?, ?it/s]"
      ]
     },
     "metadata": {},
     "output_type": "display_data"
    }
   ],
   "source": [
    "\n",
    "#rsm.qxz_data = np.swapaxes(qxz,2,3)[:,:,:,0:115]\n",
    "#rsm.qyz_data = np.swapaxes(qyz,2,3)[:,:,:,0:115]\n",
    "\n",
    "rsm.calcSTRAIN('com') \n",
    "rsm.disp()"
   ]
  },
  {
   "cell_type": "code",
   "execution_count": 32,
   "id": "lovely-sherman",
   "metadata": {
    "scrolled": true
   },
   "outputs": [
    {
     "name": "stdout",
     "output_type": "stream",
     "text": [
      "Directory '//data//users//2023Q2//Murray_2023Q2//GAAFET_35_percent_10nm//processed_rsm_50x100_nm//' created\n"
     ]
    }
   ],
   "source": [
    "save_path = '//data//users//2023Q2//Murray_2023Q2//GAAFET_35_percent_10nm//processed_rsm_50x100_nm//'\n",
    "rsm.save(save_path)\n",
    "save_file = ''.join([save_path,'rsm_35_percent_50x100_nm_processed.obj'])\n",
    "pickle.dump(rsm, open(save_file,'wb'),protocol = 4)"
   ]
  },
  {
   "cell_type": "code",
   "execution_count": 30,
   "id": "polar-sleeping",
   "metadata": {},
   "outputs": [],
   "source": [
    "interactive_map(elem_list,stack,'rsm',np.swapaxes(rsm.qxz_data,2,3),cmap='jet')"
   ]
  },
  {
   "cell_type": "code",
   "execution_count": 9,
   "id": "defined-parameter",
   "metadata": {},
   "outputs": [
    {
     "data": {
      "text/plain": [
       "(4, 100, 110)"
      ]
     },
     "execution_count": 9,
     "metadata": {},
     "output_type": "execute_result"
    }
   ],
   "source": [
    "stack.shape"
   ]
  },
  {
   "cell_type": "code",
   "execution_count": 34,
   "id": "conceptual-final",
   "metadata": {},
   "outputs": [],
   "source": [
    "desc ={\n",
    "    'title':'Movie',\n",
    "    'artist': 'hyan',\n",
    "    'comment': 'GAAFET_35_percent_50x100_nm',\n",
    "    'save_file': 'movie_GAAFET_35_percent_50x100_nm.mp4',\n",
    "    'fps': 15,\n",
    "    'dpi': 100\n",
    "}\n",
    "running_path = [[9,j] for j in range(4,21)]\n",
    "running_path = np.concatenate([running_path,[[i,20] for i in range(9,62)]])"
   ]
  },
  {
   "cell_type": "code",
   "execution_count": 35,
   "id": "little-statistics",
   "metadata": {},
   "outputs": [
    {
     "name": "stdout",
     "output_type": "stream",
     "text": [
      "0\n",
      "1\n",
      "2\n",
      "3\n",
      "4\n",
      "5\n",
      "6\n",
      "7\n",
      "8\n",
      "9\n",
      "10\n",
      "11\n",
      "12\n",
      "13\n",
      "14\n",
      "15\n",
      "16\n",
      "17\n",
      "18\n",
      "19\n",
      "20\n",
      "21\n",
      "22\n",
      "23\n",
      "24\n",
      "25\n",
      "26\n",
      "27\n",
      "28\n",
      "29\n",
      "30\n",
      "31\n",
      "32\n",
      "33\n",
      "34\n",
      "35\n",
      "36\n",
      "37\n",
      "38\n",
      "39\n",
      "40\n",
      "41\n",
      "42\n",
      "43\n",
      "44\n",
      "45\n",
      "46\n",
      "47\n",
      "48\n",
      "49\n",
      "50\n",
      "51\n",
      "52\n",
      "53\n",
      "54\n",
      "55\n",
      "56\n",
      "57\n",
      "58\n",
      "59\n",
      "60\n",
      "61\n",
      "62\n",
      "63\n",
      "64\n",
      "65\n",
      "66\n",
      "67\n",
      "68\n",
      "69\n"
     ]
    }
   ],
   "source": [
    "create_movie(desc, elem_list,stack,'rsm',np.log10(np.swapaxes(rsm.qxz_data,2,3)+1e-6),running_path)"
   ]
  },
  {
   "cell_type": "code",
   "execution_count": 143,
   "id": "governmental-buying",
   "metadata": {},
   "outputs": [
    {
     "name": "stdout",
     "output_type": "stream",
     "text": [
      "0\n",
      "1\n",
      "2\n",
      "3\n",
      "4\n",
      "5\n",
      "6\n",
      "7\n",
      "8\n",
      "9\n",
      "10\n",
      "11\n",
      "12\n",
      "13\n",
      "14\n",
      "15\n",
      "16\n",
      "17\n",
      "18\n",
      "19\n",
      "20\n",
      "21\n",
      "22\n",
      "23\n",
      "24\n",
      "25\n",
      "26\n",
      "27\n",
      "28\n",
      "29\n",
      "30\n",
      "31\n",
      "32\n",
      "33\n",
      "34\n",
      "35\n",
      "36\n",
      "37\n",
      "38\n",
      "39\n",
      "40\n",
      "41\n",
      "42\n",
      "43\n",
      "44\n",
      "45\n",
      "46\n",
      "47\n",
      "48\n",
      "49\n",
      "50\n",
      "51\n",
      "52\n",
      "53\n",
      "54\n",
      "55\n",
      "56\n",
      "57\n",
      "58\n",
      "59\n",
      "60\n",
      "61\n",
      "62\n",
      "63\n",
      "64\n",
      "65\n",
      "66\n",
      "67\n",
      "68\n",
      "69\n",
      "70\n",
      "71\n",
      "72\n",
      "73\n",
      "74\n",
      "75\n",
      "76\n",
      "77\n",
      "78\n",
      "79\n",
      "80\n",
      "81\n",
      "82\n",
      "83\n",
      "84\n",
      "85\n",
      "86\n",
      "87\n",
      "88\n",
      "89\n",
      "90\n",
      "91\n",
      "92\n",
      "93\n",
      "94\n",
      "95\n",
      "96\n",
      "97\n",
      "98\n",
      "99\n",
      "100\n",
      "101\n",
      "102\n",
      "103\n",
      "104\n",
      "105\n",
      "106\n",
      "107\n",
      "108\n",
      "109\n",
      "110\n",
      "111\n",
      "112\n",
      "113\n",
      "114\n",
      "115\n",
      "116\n",
      "117\n",
      "118\n",
      "119\n",
      "120\n",
      "121\n",
      "122\n",
      "123\n",
      "124\n",
      "125\n",
      "126\n",
      "127\n",
      "128\n",
      "129\n",
      "130\n",
      "131\n",
      "132\n",
      "133\n",
      "134\n",
      "135\n",
      "136\n",
      "137\n",
      "138\n",
      "139\n",
      "140\n",
      "141\n",
      "142\n",
      "143\n",
      "144\n",
      "145\n",
      "146\n",
      "147\n"
     ]
    }
   ],
   "source": []
  },
  {
   "cell_type": "code",
   "execution_count": 108,
   "id": "israeli-hierarchy",
   "metadata": {},
   "outputs": [],
   "source": [
    "FFMpegWriter = manimation.writers['ffmpeg']\n",
    "metadata = dict(title=desc['title'], artist=desc['artist'],\n",
    "                comment=desc['comment'])\n",
    "writer = FFMpegWriter(fps=desc['fps'], metadata=metadata)"
   ]
  },
  {
   "cell_type": "code",
   "execution_count": 112,
   "id": "secret-advertiser",
   "metadata": {},
   "outputs": [
    {
     "data": {
      "text/plain": [
       "<contextlib._GeneratorContextManager at 0x7fd3201aca90>"
      ]
     },
     "execution_count": 112,
     "metadata": {},
     "output_type": "execute_result"
    }
   ],
   "source": [
    "writer.saving(fig, desc['save_file'], dpi=desc['dpi'])"
   ]
  },
  {
   "cell_type": "code",
   "execution_count": 114,
   "id": "sonic-premiere",
   "metadata": {},
   "outputs": [
    {
     "data": {
      "text/plain": [
       "'3.2.2'"
      ]
     },
     "execution_count": 114,
     "metadata": {},
     "output_type": "execute_result"
    }
   ],
   "source": [
    "matplotlib.__version__"
   ]
  },
  {
   "cell_type": "code",
   "execution_count": 113,
   "id": "better-criterion",
   "metadata": {},
   "outputs": [
    {
     "ename": "AttributeError",
     "evalue": "'FFMpegWriter' object has no attribute 'fig'",
     "output_type": "error",
     "traceback": [
      "\u001b[0;31m---------------------------------------------------------------------------\u001b[0m",
      "\u001b[0;31mAttributeError\u001b[0m                            Traceback (most recent call last)",
      "\u001b[0;32m<ipython-input-113-7bc759fb1c0d>\u001b[0m in \u001b[0;36m<module>\u001b[0;34m\u001b[0m\n\u001b[0;32m----> 1\u001b[0;31m \u001b[0mwriter\u001b[0m\u001b[0;34m.\u001b[0m\u001b[0mgrab_frame\u001b[0m\u001b[0;34m(\u001b[0m\u001b[0;34m)\u001b[0m\u001b[0;34m\u001b[0m\u001b[0;34m\u001b[0m\u001b[0m\n\u001b[0m",
      "\u001b[0;32m/opt/conda_envs/nsls2-analysis-2021-1.2/lib/python3.7/site-packages/matplotlib/animation.py\u001b[0m in \u001b[0;36mgrab_frame\u001b[0;34m(self, **savefig_kwargs)\u001b[0m\n\u001b[1;32m    379\u001b[0m         \u001b[0;31m# user.  We must ensure that every frame is the same size or\u001b[0m\u001b[0;34m\u001b[0m\u001b[0;34m\u001b[0m\u001b[0;34m\u001b[0m\u001b[0m\n\u001b[1;32m    380\u001b[0m         \u001b[0;31m# the movie will not save correctly.\u001b[0m\u001b[0;34m\u001b[0m\u001b[0;34m\u001b[0m\u001b[0;34m\u001b[0m\u001b[0m\n\u001b[0;32m--> 381\u001b[0;31m         \u001b[0mself\u001b[0m\u001b[0;34m.\u001b[0m\u001b[0mfig\u001b[0m\u001b[0;34m.\u001b[0m\u001b[0mset_size_inches\u001b[0m\u001b[0;34m(\u001b[0m\u001b[0mself\u001b[0m\u001b[0;34m.\u001b[0m\u001b[0m_w\u001b[0m\u001b[0;34m,\u001b[0m \u001b[0mself\u001b[0m\u001b[0;34m.\u001b[0m\u001b[0m_h\u001b[0m\u001b[0;34m)\u001b[0m\u001b[0;34m\u001b[0m\u001b[0;34m\u001b[0m\u001b[0m\n\u001b[0m\u001b[1;32m    382\u001b[0m         \u001b[0;31m# Tell the figure to save its data to the sink, using the\u001b[0m\u001b[0;34m\u001b[0m\u001b[0;34m\u001b[0m\u001b[0;34m\u001b[0m\u001b[0m\n\u001b[1;32m    383\u001b[0m         \u001b[0;31m# frame format and dpi.\u001b[0m\u001b[0;34m\u001b[0m\u001b[0;34m\u001b[0m\u001b[0;34m\u001b[0m\u001b[0m\n",
      "\u001b[0;31mAttributeError\u001b[0m: 'FFMpegWriter' object has no attribute 'fig'"
     ]
    }
   ],
   "source": [
    "writer.grab_frame()"
   ]
  },
  {
   "cell_type": "code",
   "execution_count": 86,
   "id": "imperial-fossil",
   "metadata": {},
   "outputs": [],
   "source": [
    "with writer.saving(fig, desc['save_file'], dpi=desc['dpi']):\n",
    "    writer.grab_frame()"
   ]
  },
  {
   "cell_type": "code",
   "execution_count": null,
   "id": "abandoned-hammer",
   "metadata": {},
   "outputs": [],
   "source": []
  }
 ],
 "metadata": {
  "kernelspec": {
   "display_name": "Python 3",
   "language": "python",
   "name": "python3"
  },
  "language_info": {
   "codemirror_mode": {
    "name": "ipython",
    "version": 3
   },
   "file_extension": ".py",
   "mimetype": "text/x-python",
   "name": "python",
   "nbconvert_exporter": "python",
   "pygments_lexer": "ipython3",
   "version": "3.7.7"
  }
 },
 "nbformat": 4,
 "nbformat_minor": 5
}
